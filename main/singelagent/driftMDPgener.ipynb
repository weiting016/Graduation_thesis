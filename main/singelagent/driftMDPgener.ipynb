{
 "cells": [
  {
   "cell_type": "code",
   "execution_count": 1,
   "metadata": {},
   "outputs": [],
   "source": [
    "import dyna_env_drifttype\n",
    "import numpy as np\n",
    "import pandas as pd\n",
    "import ast\n",
    "from collections import deque\n",
    "from dyna_env_drifttype import TaskEnv_driftype"
   ]
  },
  {
   "cell_type": "code",
   "execution_count": 2,
   "metadata": {},
   "outputs": [
    {
     "name": "stderr",
     "output_type": "stream",
     "text": [
      "/Users/veetin/Desktop/drifttest_pa/main/dyna_env_drifttype.py:45: FutureWarning: ChainedAssignmentError: behaviour will change in pandas 3.0!\n",
      "You are setting values through chained assignment. Currently this works in certain cases, but when using Copy-on-Write (which will become the default behaviour in pandas 3.0) this will never work to update the original DataFrame or Series, because the intermediate object on which we are setting values will behave as a copy.\n",
      "A typical example is when you are setting values in a column of a DataFrame, like:\n",
      "\n",
      "df[\"col\"][row_indexer] = value\n",
      "\n",
      "Use `df.loc[row_indexer, \"col\"] = values` instead, to perform the assignment in a single step and ensure this keeps updating the original `df`.\n",
      "\n",
      "See the caveats in the documentation: https://pandas.pydata.org/pandas-docs/stable/user_guide/indexing.html#returning-a-view-versus-a-copy\n",
      "\n",
      "  frequencies[label][action] = ast.literal_eval(frequencies[label][action]) #判断需要计算的内容是不是合法的Python类型，如果是则执行，否则就报错\n"
     ]
    }
   ],
   "source": [
    "env = TaskEnv_driftype()"
   ]
  },
  {
   "cell_type": "code",
   "execution_count": 67,
   "metadata": {},
   "outputs": [],
   "source": [
    "actions = env.observation_space.index.to_list()"
   ]
  },
  {
   "cell_type": "code",
   "execution_count": 3,
   "metadata": {},
   "outputs": [
    {
     "data": {
      "text/plain": [
       "{'Tau': 0.42410714285714285,\n",
       " 'pp': 0.40625,\n",
       " 'va': 0.09598214285714286,\n",
       " 'sib': 0.05133928571428571,\n",
       " 'po': 0.022321428571428572}"
      ]
     },
     "execution_count": 3,
     "metadata": {},
     "output_type": "execute_result"
    }
   ],
   "source": [
    "env.observation_space['pp']['geen']"
   ]
  },
  {
   "cell_type": "code",
   "execution_count": 5,
   "metadata": {},
   "outputs": [
    {
     "name": "stdout",
     "output_type": "stream",
     "text": [
      "drift happen\n",
      "change_frequencies function running\n"
     ]
    },
    {
     "data": {
      "text/plain": [
       "{'Tau': 0.15483630952380953,\n",
       " 'pp': 0.18589583333333332,\n",
       " 'va': 0.19063839285714285,\n",
       " 'sib': 0.21928720238095237,\n",
       " 'po': 0.24934226190476189}"
      ]
     },
     "execution_count": 5,
     "metadata": {},
     "output_type": "execute_result"
    }
   ],
   "source": [
    "env.set_flag()\n",
    "env.drift(change_at_states=['pp'],drift_dis_type='inverse',intensity=0.7)\n",
    "env.observation_space['pp']['geen']"
   ]
  },
  {
   "cell_type": "code",
   "execution_count": 57,
   "metadata": {},
   "outputs": [],
   "source": [
    "\n",
    "    def perturb_probs(prob_list,intensity=0.5, ranking=True):\n",
    "        #intensity 0.5-1\n",
    " \n",
    "    # Convert to numpy array and normalize to ensure it sums to 1\n",
    "        probs = np.array(prob_list, dtype=float)\n",
    "        probs = probs / probs.sum()\n",
    "        \n",
    "        n = len(probs)\n",
    "    \n",
    "    # If intensity is 0, return original distribution\n",
    "        if intensity == 0:\n",
    "            return probs\n",
    "        \n",
    "        # Get the sorted indices to understand ranking\n",
    "        sorted_indices = np.argsort(probs)\n",
    "        \n",
    "        # Create target distribution based on ranking preference\n",
    "        if ranking:\n",
    "            # Maintain original ranking: highest prob gets most concentration\n",
    "            target_weights = np.zeros(n)\n",
    "            for i, idx in enumerate(sorted_indices):\n",
    "                # Linear weighting: smallest gets 1, largest gets n\n",
    "                target_weights[idx] = i + 1\n",
    "        else:\n",
    "            # Reverse ranking: lowest prob gets most concentration  \n",
    "            target_weights = np.zeros(n)\n",
    "            for i, idx in enumerate(sorted_indices):\n",
    "                # Reverse linear weighting: largest gets 1, smallest gets n\n",
    "                target_weights[idx] = n - i\n",
    "        \n",
    "        # Normalize target weights to create target distribution\n",
    "        target_dist = target_weights / np.sum(target_weights)\n",
    "        \n",
    "        # Interpolate between original and target based on intensity\n",
    "        modified_probs = (1-intensity )* probs + (intensity) * target_dist\n",
    "        \n",
    "        # Ensure final normalization\n",
    "        modified_probs = modified_probs / np.sum(modified_probs)\n",
    "        \n",
    "        return np.round(modified_probs,2)"
   ]
  },
  {
   "cell_type": "code",
   "execution_count": 32,
   "metadata": {},
   "outputs": [
    {
     "name": "stdout",
     "output_type": "stream",
     "text": [
      "[0.29607701 0.37763866 0.17113893 0.10290522 0.05224017]\n",
      "[0.29037858 0.38840259 0.16487535 0.05386888 0.10247461]\n",
      "[0.36056548 0.30854167 0.16879464 0.10873512 0.0533631 ]\n",
      "[0.37189989 0.05400455 0.30765643 0.10374289 0.16269625]\n",
      "[0.29570874 0.38346762 0.09977917 0.16846911 0.05257535]\n",
      "[0.36761693 0.31317537 0.05421942 0.16121437 0.10377391]\n",
      "[0.17417722 0.30581224 0.35342827 0.11469409 0.05188819]\n"
     ]
    }
   ],
   "source": [
    "valuelist = []\n",
    "for a in actions:\n",
    "    problist = list(env.observation_space['pp'][a].values())\n",
    "    \n",
    "    new_prob = perturb_probs(problist,0.7)\n",
    "    valuelist.append(new_prob)\n",
    "    print(new_prob)"
   ]
  },
  {
   "cell_type": "code",
   "execution_count": 58,
   "metadata": {},
   "outputs": [
    {
     "data": {
      "text/plain": [
       "(array([0.41, 0.02, 0.57]),\n",
       " array([0.36, 0.12, 0.52]),\n",
       " array([0.36, 0.36, 0.29]))"
      ]
     },
     "execution_count": 58,
     "metadata": {},
     "output_type": "execute_result"
    }
   ],
   "source": [
    "np.random.seed(2)\n",
    "example = np.random.dirichlet(np.ones(3), size=1)[0]\n",
    "example = np.round(example,2)\n",
    "preserve_rank = perturb_probs(example,0.7,True)\n",
    "inverse_rank = perturb_probs(example,0.7,False)\n",
    "example, preserve_rank,inverse_rank"
   ]
  },
  {
   "cell_type": "code",
   "execution_count": 64,
   "metadata": {},
   "outputs": [
    {
     "data": {
      "text/plain": [
       "array([0.39, 0.34, 0.27])"
      ]
     },
     "execution_count": 64,
     "metadata": {},
     "output_type": "execute_result"
    }
   ],
   "source": [
    "\n",
    "example = np.random.dirichlet(np.ones(3), size=1)[0]\n",
    "example = np.round(example,2)\n",
    "example\n"
   ]
  },
  {
   "cell_type": "code",
   "execution_count": null,
   "metadata": {},
   "outputs": [],
   "source": []
  },
  {
   "cell_type": "code",
   "execution_count": 30,
   "metadata": {},
   "outputs": [
    {
     "name": "stdout",
     "output_type": "stream",
     "text": [
      "['pp', 'Tau', 'va', 'po', 'sib']\n",
      "['pp', 'Tau', 'va', 'po', 'sib']\n",
      "['Tau', 'pp', 'va', 'sib', 'po']\n",
      "['Tau', 'po', 'pp', 'sib', 'va']\n",
      "['pp', 'Tau', 'po', 'va', 'sib']\n",
      "['Tau', 'pp', 'po', 'va', 'sib']\n",
      "['va', 'pp', 'Tau', 'po', 'sib']\n"
     ]
    }
   ],
   "source": [
    "keylists = []\n",
    "for a in actions:\n",
    "    keylist = list(env.observation_space['pp'][a].keys())\n",
    "    print(keylist)\n",
    "    keylists.append(keylist)\n",
    "    "
   ]
  },
  {
   "cell_type": "code",
   "execution_count": 37,
   "metadata": {},
   "outputs": [
    {
     "name": "stdout",
     "output_type": "stream",
     "text": [
      "{'pp': 0.2960770059235326, 'Tau': 0.3776386645126548, 'va': 0.1711389337641357, 'po': 0.10290522347872913, 'sib': 0.05224017232094776}\n",
      "{'pp': 0.2903785780240074, 'Tau': 0.38840258541089573, 'va': 0.16487534626038783, 'po': 0.05386888273314867, 'sib': 0.10247460757156049}\n",
      "{'Tau': 0.3605654761904762, 'pp': 0.30854166666666666, 'va': 0.16879464285714285, 'sib': 0.10873511904761904, 'po': 0.05336309523809524}\n",
      "{'Tau': 0.3718998862343572, 'po': 0.05400455062571103, 'pp': 0.30765642775881685, 'sib': 0.1037428896473265, 'va': 0.16269624573378838}\n",
      "{'pp': 0.2957087436586094, 'Tau': 0.3834676216054909, 'po': 0.09977917039689645, 'va': 0.16846911369740375, 'sib': 0.052575350641599516}\n",
      "{'Tau': 0.36761693200049367, 'pp': 0.31317536714796995, 'po': 0.05421942490435641, 'va': 0.16121436504998152, 'sib': 0.10377391089719858}\n",
      "{'va': 0.17417721518987342, 'pp': 0.30581223628691984, 'Tau': 0.3534282700421941, 'po': 0.11469409282700423, 'sib': 0.05188818565400844}\n"
     ]
    }
   ],
   "source": [
    "for i in range(7):\n",
    "    result_dict = dict(zip(keylists[i], valuelist[i]))\n",
    "    print(result_dict)\n"
   ]
  },
  {
   "cell_type": "code",
   "execution_count": 41,
   "metadata": {},
   "outputs": [
    {
     "name": "stdout",
     "output_type": "stream",
     "text": [
      "[0.14490172 0.08738422 0.19518982 0.25492865 0.31759558]\n",
      "[0.14395199 0.08917821 0.19414589 0.31786704 0.25485688]\n",
      "[0.08453869 0.14697917 0.19479911 0.2559003  0.31778274]\n",
      "[0.08642776 0.31788965 0.14683163 0.25506826 0.19378271]\n",
      "[0.14484035 0.08835571 0.25440764 0.19474485 0.31765145]\n",
      "[0.08571393 0.14775145 0.31792546 0.19353573 0.25507343]\n",
      "[0.1956962  0.14652426 0.08334916 0.25689346 0.31753692]\n"
     ]
    }
   ],
   "source": [
    "valuelist = []\n",
    "for a in actions:\n",
    "    problist = list(env.observation_space['pp'][a].values())\n",
    "    \n",
    "    new_prob = perturb_probs(problist,0.95,False)\n",
    "    valuelist.append(new_prob)\n",
    "    print(new_prob)"
   ]
  },
  {
   "cell_type": "code",
   "execution_count": 42,
   "metadata": {},
   "outputs": [
    {
     "name": "stdout",
     "output_type": "stream",
     "text": [
      "{'pp': 0.14490172320947764, 'Tau': 0.08738422186322026, 'va': 0.19518982229402262, 'po': 0.25492864835756596, 'sib': 0.3175955842757135}\n",
      "{'pp': 0.14395198522622346, 'Tau': 0.08917820867959374, 'va': 0.19414589104339797, 'po': 0.3178670360110803, 'sib': 0.2548568790397045}\n",
      "{'Tau': 0.08453869047619049, 'pp': 0.14697916666666666, 'va': 0.19479910714285714, 'sib': 0.2559002976190476, 'po': 0.3177827380952381}\n",
      "{'Tau': 0.08642775881683733, 'po': 0.3178896473265074, 'pp': 0.1468316268486917, 'sib': 0.2550682593856655, 'va': 0.19378270762229807}\n",
      "{'pp': 0.1448403461653238, 'Tau': 0.08835571471202627, 'po': 0.2544076395105938, 'va': 0.19474485228290064, 'sib': 0.31765144732915546}\n",
      "{'Tau': 0.08571393311119341, 'pp': 0.14775145008021723, 'po': 0.31792545970628167, 'va': 0.19353572750833029, 'sib': 0.25507342959397755}\n",
      "{'va': 0.19569620253164557, 'pp': 0.14652426160337553, 'Tau': 0.08334915611814346, 'po': 0.2568934599156118, 'sib': 0.3175369198312236}\n"
     ]
    }
   ],
   "source": [
    "for i in range(7):\n",
    "    result_dict = dict(zip(keylists[i], valuelist[i]))\n",
    "    print(result_dict)\n"
   ]
  },
  {
   "cell_type": "code",
   "execution_count": null,
   "metadata": {},
   "outputs": [],
   "source": []
  }
 ],
 "metadata": {
  "kernelspec": {
   "display_name": "base",
   "language": "python",
   "name": "python3"
  },
  "language_info": {
   "codemirror_mode": {
    "name": "ipython",
    "version": 3
   },
   "file_extension": ".py",
   "mimetype": "text/x-python",
   "name": "python",
   "nbconvert_exporter": "python",
   "pygments_lexer": "ipython3",
   "version": "3.12.7"
  }
 },
 "nbformat": 4,
 "nbformat_minor": 2
}
