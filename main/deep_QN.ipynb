{
 "cells": [
  {
   "cell_type": "code",
   "execution_count": 1,
   "metadata": {},
   "outputs": [],
   "source": [
    "from IPython import get_ipython\n",
    "import random\n",
    "import matplotlib.pyplot as plt\n",
    "from IPython import display\n",
    "from tqdm.notebook import tqdm\n",
    "from dynamic_env import TaskEnv_drift\n",
    "from typing import Tuple, List\n",
    "import itertools as it\n",
    "import numpy as np\n",
    "import pandas as pd\n",
    "import plotly.express as px\n",
    "import statistics as s\n",
    "\n"
   ]
  },
  {
   "cell_type": "code",
   "execution_count": 2,
   "metadata": {},
   "outputs": [],
   "source": [
    "import torch\n",
    "import torch.nn as nn\n",
    "import torch.optim as optim\n",
    "import gymnasium as gym\n",
    "from collections import deque\n",
    "import ast"
   ]
  },
  {
   "cell_type": "code",
   "execution_count": 3,
   "metadata": {},
   "outputs": [
    {
     "name": "stderr",
     "output_type": "stream",
     "text": [
      "/Users/veetin/Desktop/drifttest_pa/main/dynamic_env.py:47: FutureWarning: ChainedAssignmentError: behaviour will change in pandas 3.0!\n",
      "You are setting values through chained assignment. Currently this works in certain cases, but when using Copy-on-Write (which will become the default behaviour in pandas 3.0) this will never work to update the original DataFrame or Series, because the intermediate object on which we are setting values will behave as a copy.\n",
      "A typical example is when you are setting values in a column of a DataFrame, like:\n",
      "\n",
      "df[\"col\"][row_indexer] = value\n",
      "\n",
      "Use `df.loc[row_indexer, \"col\"] = values` instead, to perform the assignment in a single step and ensure this keeps updating the original `df`.\n",
      "\n",
      "See the caveats in the documentation: https://pandas.pydata.org/pandas-docs/stable/user_guide/indexing.html#returning-a-view-versus-a-copy\n",
      "\n",
      "  frequencies[label][action] = ast.literal_eval(frequencies[label][action]) #判断需要计算的内容是不是合法的Python类型，如果是则执行，否则就报错\n"
     ]
    }
   ],
   "source": [
    "env = TaskEnv_drift()"
   ]
  },
  {
   "cell_type": "code",
   "execution_count": 4,
   "metadata": {},
   "outputs": [],
   "source": [
    "def drift_control(add_states=0,add_actions=0, type_drif=None): #add other variable to control the type\n",
    "    \"\"\"which episode drift happen and which type\"\"\" \n",
    "    env.set_flag()\n",
    "    env.drift(add_actions,add_states)\n",
    "    #qlearner.change_qtable()\n",
    "    return"
   ]
  },
  {
   "cell_type": "code",
   "execution_count": 5,
   "metadata": {},
   "outputs": [],
   "source": [
    "# 定义 State-Action Embedding 和 Q-Network\n",
    "class StateActionEmbedding(nn.Module):\n",
    "    def __init__(self, state_dim, action_dim, embedding_dim=16):\n",
    "        super(StateActionEmbedding, self).__init__()\n",
    "        self.state_embedding = nn.Sequential(\n",
    "            nn.Linear(state_dim, 32),\n",
    "            nn.ReLU(),\n",
    "            nn.Linear(32, embedding_dim)\n",
    "        )\n",
    "        self.action_embedding = nn.Sequential(\n",
    "            nn.Linear(action_dim, 32),\n",
    "            nn.ReLU(),\n",
    "            nn.Linear(32, embedding_dim)\n",
    "        )\n",
    "\n",
    "    def forward(self, state, action):\n",
    "        state_embed = self.state_embedding(state)\n",
    "        action_embed = self.action_embedding(action)\n",
    "        return torch.cat([state_embed, action_embed], dim=-1)\n",
    "\n",
    "class QNetwork(nn.Module):\n",
    "    def __init__(self, embedding_dim, hidden_dim=64):\n",
    "        super(QNetwork, self).__init__()\n",
    "        self.fc = nn.Sequential(\n",
    "            nn.Linear(embedding_dim * 2, hidden_dim),\n",
    "            nn.ReLU(),\n",
    "            nn.Linear(hidden_dim, 1)\n",
    "        )\n",
    "\n",
    "    def forward(self, state_action_embed):\n",
    "        return self.fc(state_action_embed)\n",
    "\n",
    "# 定义 DQN Agent\n",
    "class DQNAgent:\n",
    "    def __init__(self, state_dim, action_dim, embedding_dim=16, gamma=0.9, lr=1e-3, epsilon=0.2, epsilon_decay=0.995, epsilon_min=0.01):\n",
    "        self.state_dim = state_dim\n",
    "        self.action_dim = action_dim\n",
    "        self.gamma = gamma\n",
    "        self.epsilon = epsilon\n",
    "        self.epsilon_decay = epsilon_decay\n",
    "        self.epsilon_min = epsilon_min\n",
    "\n",
    "        self.losses = []\n",
    "        self.episode_rewards = []\n",
    "\n",
    "        # 网络\n",
    "        self.embedding_net = StateActionEmbedding(state_dim, action_dim, embedding_dim)\n",
    "        self.q_net = QNetwork(embedding_dim)\n",
    "        self.target_q_net = QNetwork(embedding_dim)\n",
    "        self.target_q_net.load_state_dict(self.q_net.state_dict())\n",
    "\n",
    "        # 优化器\n",
    "        self.optimizer = optim.Adam(list(self.embedding_net.parameters()) + list(self.q_net.parameters()), lr=lr)\n",
    "\n",
    "        # 经验回放\n",
    "        self.memory = deque(maxlen=100)\n",
    "\n",
    "    def get_action(self, state, state_to_index):\n",
    "        if np.random.rand() < self.epsilon:\n",
    "            return random.randint(0, self.action_dim - 1)  # 随机动作\n",
    "        else:\n",
    "            state_index = state_to_index[state]  # 将 state 转换为索引\n",
    "            state_one_hot = torch.zeros(self.state_dim).unsqueeze(0)\n",
    "            state_one_hot[0, state_index] = 1  # 转换为 one-hot 编码\n",
    "            q_values = []\n",
    "            for action in range(self.action_dim):\n",
    "                action_one_hot = torch.zeros(self.action_dim).unsqueeze(0)\n",
    "                action_one_hot[0, action] = 1\n",
    "                state_action_embed = self.embedding_net(state_one_hot, action_one_hot)\n",
    "                q_value = self.q_net(state_action_embed)\n",
    "                q_values.append(q_value.item())\n",
    "            return np.argmax(q_values)\n",
    "\n",
    "    def remember(self, state, action, reward, next_state, done):\n",
    "        self.memory.append((state, action, reward, next_state, done))\n",
    "\n",
    "    def train(self, batch_size=1, state_to_index=None):\n",
    "        if len(self.memory) < batch_size:\n",
    "            return\n",
    "\n",
    "        # 从经验回放中采样一个样本（batch_size=1）\n",
    "        state, action, reward, next_state, done = self.memory[-1]\n",
    "\n",
    "        # 将 state 和 next_state 转换为 one-hot 编码\n",
    "        state_index = state_to_index[state]\n",
    "        state_one_hot = torch.zeros(self.state_dim).unsqueeze(0)\n",
    "        state_one_hot[0, state_index] = 1\n",
    "\n",
    "        next_state_index = state_to_index[next_state]\n",
    "        next_state_one_hot = torch.zeros(self.state_dim).unsqueeze(0)\n",
    "        next_state_one_hot[0, next_state_index] = 1\n",
    "\n",
    "        # 将 action 转换为 one-hot 编码\n",
    "        action_one_hot = torch.zeros(self.action_dim).unsqueeze(0)\n",
    "        action_one_hot[0, action] = 1\n",
    "\n",
    "        reward = torch.FloatTensor([reward])\n",
    "        done = torch.FloatTensor([done])\n",
    "\n",
    "        # 计算当前 Q 值\n",
    "        state_action_embed = self.embedding_net(state_one_hot, action_one_hot)\n",
    "        current_q = self.q_net(state_action_embed)\n",
    "\n",
    "        # 计算目标 Q 值\n",
    "        with torch.no_grad():\n",
    "            next_q_values = []\n",
    "            for next_action in range(self.action_dim):\n",
    "                next_action_one_hot = torch.zeros(self.action_dim).unsqueeze(0)\n",
    "                next_action_one_hot[0, next_action] = 1\n",
    "                next_state_action_embed = self.embedding_net(next_state_one_hot, next_action_one_hot)\n",
    "                next_q = self.target_q_net(next_state_action_embed)\n",
    "                next_q_values.append(next_q.item())\n",
    "            next_q_max = max(next_q_values)\n",
    "            target_q = reward + (1 - done) * self.gamma * next_q_max\n",
    "\n",
    "        # 计算损失并更新网络\n",
    "        loss = nn.MSELoss()(current_q, target_q.unsqueeze(1))\n",
    "        self.losses.append(loss.item())\n",
    "        \n",
    "        self.optimizer.zero_grad()\n",
    "        loss.backward()\n",
    "        self.optimizer.step()\n",
    "\n",
    "        # 更新 epsilon\n",
    "        self.epsilon = max(self.epsilon_min, self.epsilon * self.epsilon_decay)\n",
    "\n",
    "        # 更新目标网络\n",
    "    def plot_training_progress(self):\n",
    "        \"\"\"绘制训练过程中的reward变化\"\"\"\n",
    "        fig, (ax1, ax2) = plt.subplots(2, 1, figsize=(10, 10))\n",
    "        \n",
    "        # 绘制episode rewards\n",
    "        ax1.plot(self.episode_rewards, label='Episode Reward', alpha=0.6)\n",
    "        ax1.set_title('Training Rewards')\n",
    "        ax1.set_xlabel('Episode')\n",
    "        ax1.set_ylabel('Reward')\n",
    "        ax1.legend()\n",
    "        ax1.grid(True)\n",
    "        \n",
    "        # 绘制损失变化\n",
    "        ax2.plot(self.losses, label='Loss', alpha=0.6)\n",
    "        ax2.set_title('Training Loss')\n",
    "        ax2.set_xlabel('Training Step')\n",
    "        ax2.set_ylabel('Loss')\n",
    "        ax2.legend()\n",
    "        ax2.grid(True)\n",
    "        \n",
    "        plt.tight_layout()\n",
    "        plt.show()\n",
    "\n",
    "\n"
   ]
  },
  {
   "cell_type": "code",
   "execution_count": 6,
   "metadata": {},
   "outputs": [
    {
     "name": "stderr",
     "output_type": "stream",
     "text": [
      "/Users/veetin/Desktop/drifttest_pa/main/dynamic_env.py:47: FutureWarning: ChainedAssignmentError: behaviour will change in pandas 3.0!\n",
      "You are setting values through chained assignment. Currently this works in certain cases, but when using Copy-on-Write (which will become the default behaviour in pandas 3.0) this will never work to update the original DataFrame or Series, because the intermediate object on which we are setting values will behave as a copy.\n",
      "A typical example is when you are setting values in a column of a DataFrame, like:\n",
      "\n",
      "df[\"col\"][row_indexer] = value\n",
      "\n",
      "Use `df.loc[row_indexer, \"col\"] = values` instead, to perform the assignment in a single step and ensure this keeps updating the original `df`.\n",
      "\n",
      "See the caveats in the documentation: https://pandas.pydata.org/pandas-docs/stable/user_guide/indexing.html#returning-a-view-versus-a-copy\n",
      "\n",
      "  frequencies[label][action] = ast.literal_eval(frequencies[label][action]) #判断需要计算的内容是不是合法的Python类型，如果是则执行，否则就报错\n"
     ]
    }
   ],
   "source": [
    "env = TaskEnv_drift()  \n",
    "state_dim = len(env.states) \n",
    "action_dim = len(env.motions)  \n",
    "\n",
    "# 创建 state 到索引的映射\n",
    "state_to_index = {state: idx for idx, state in enumerate(env.states)}\n",
    "agent = DQNAgent(state_dim, action_dim)\n"
   ]
  },
  {
   "cell_type": "code",
   "execution_count": 7,
   "metadata": {},
   "outputs": [],
   "source": [
    "\n",
    "def run_agent(num_episodes, drift_ep=0, add_states=0, add_actions=0):\n",
    "    for episode in range(num_episodes):\n",
    "        state = env.reset()\n",
    "        total_reward = 0\n",
    "\n",
    "        if drift_ep != 0 and episode == drift_ep: #drift at \n",
    "            drift_control(add_states,add_actions)\n",
    "         \n",
    "        while True:\n",
    "            action = agent.get_action(state, state_to_index)\n",
    "            next_state, reward, done, _ = env.step(action)\n",
    "            agent.remember(state, action, reward, next_state, done)\n",
    "            agent.train(batch_size=1, state_to_index=state_to_index)\n",
    "            total_reward += reward\n",
    "            state = next_state   \n",
    "        \n",
    "            if done:\n",
    "                break\n",
    "        agent.episode_rewards.append(total_reward)\n",
    "\n",
    "    return agent.episode_rewards\n",
    "\n",
    "        #print(f\"Episode: {episode + 1}, Total Reward: {total_reward}, Epsilon: {agent.epsilon}\")"
   ]
  },
  {
   "cell_type": "markdown",
   "metadata": {},
   "source": []
  },
  {
   "cell_type": "code",
   "execution_count": 8,
   "metadata": {},
   "outputs": [
    {
     "data": {
      "application/vnd.jupyter.widget-view+json": {
       "model_id": "eaef6f79f5804141a45b9c8e8549a754",
       "version_major": 2,
       "version_minor": 0
      },
      "text/plain": [
       "  0%|          | 0/10 [00:00<?, ?it/s]"
      ]
     },
     "metadata": {},
     "output_type": "display_data"
    },
    {
     "name": "stdout",
     "output_type": "stream",
     "text": [
      "drift happen\n",
      "drift happen\n",
      "drift happen\n",
      "drift happen\n",
      "drift happen\n",
      "drift happen\n",
      "drift happen\n",
      "drift happen\n",
      "drift happen\n",
      "drift happen\n"
     ]
    },
    {
     "data": {
      "application/vnd.jupyter.widget-view+json": {
       "model_id": "7e0a38a88fe6438db97cef733761fa5d",
       "version_major": 2,
       "version_minor": 0
      },
      "text/plain": [
       "  0%|          | 0/10 [00:00<?, ?it/s]"
      ]
     },
     "metadata": {},
     "output_type": "display_data"
    },
    {
     "data": {
      "application/vnd.plotly.v1+json": {
       "config": {
        "plotlyServerURL": "https://plot.ly"
       },
       "data": [
        {
         "hovertemplate": "variable=without<br>index=%{x}<br>value=%{y}<extra></extra>",
         "legendgroup": "without",
         "line": {
          "color": "#636efa",
          "dash": "solid"
         },
         "marker": {
          "symbol": "circle"
         },
         "mode": "lines",
         "name": "without",
         "orientation": "v",
         "showlegend": true,
         "type": "scatter",
         "x": [
          0,
          1,
          2,
          3,
          4,
          5,
          6,
          7,
          8,
          9,
          10,
          11,
          12,
          13,
          14,
          15,
          16,
          17,
          18,
          19,
          20,
          21,
          22,
          23,
          24,
          25,
          26,
          27,
          28,
          29,
          30,
          31,
          32,
          33,
          34,
          35,
          36,
          37,
          38,
          39,
          40,
          41,
          42,
          43,
          44,
          45,
          46,
          47,
          48,
          49,
          50,
          51,
          52,
          53,
          54,
          55,
          56,
          57,
          58,
          59,
          60,
          61,
          62,
          63,
          64,
          65,
          66,
          67,
          68,
          69,
          70,
          71,
          72,
          73,
          74,
          75,
          76,
          77,
          78,
          79,
          80,
          81,
          82,
          83,
          84,
          85,
          86,
          87,
          88,
          89,
          90,
          91,
          92,
          93,
          94,
          95,
          96,
          97,
          98,
          99,
          100,
          101,
          102,
          103,
          104,
          105,
          106,
          107,
          108,
          109,
          110,
          111,
          112,
          113,
          114,
          115,
          116,
          117,
          118,
          119,
          120,
          121,
          122,
          123,
          124,
          125,
          126,
          127,
          128,
          129,
          130,
          131,
          132,
          133,
          134,
          135,
          136,
          137,
          138,
          139,
          140,
          141,
          142,
          143,
          144,
          145,
          146,
          147,
          148,
          149,
          150,
          151,
          152,
          153,
          154,
          155,
          156,
          157,
          158,
          159,
          160,
          161,
          162,
          163,
          164,
          165,
          166,
          167,
          168,
          169,
          170,
          171,
          172,
          173,
          174,
          175,
          176,
          177,
          178,
          179,
          180,
          181,
          182,
          183,
          184,
          185,
          186,
          187,
          188,
          189,
          190,
          191,
          192,
          193,
          194,
          195,
          196,
          197,
          198,
          199,
          200,
          201,
          202,
          203,
          204,
          205,
          206,
          207,
          208,
          209,
          210,
          211,
          212,
          213,
          214,
          215,
          216,
          217,
          218,
          219,
          220,
          221,
          222,
          223,
          224,
          225,
          226,
          227,
          228,
          229,
          230,
          231,
          232,
          233,
          234,
          235,
          236,
          237,
          238,
          239,
          240,
          241,
          242,
          243,
          244,
          245,
          246,
          247,
          248,
          249,
          250,
          251,
          252,
          253,
          254,
          255,
          256,
          257,
          258,
          259,
          260,
          261,
          262,
          263,
          264,
          265,
          266,
          267,
          268,
          269,
          270,
          271,
          272,
          273,
          274,
          275,
          276,
          277,
          278,
          279,
          280,
          281,
          282,
          283,
          284,
          285,
          286,
          287,
          288,
          289,
          290,
          291,
          292,
          293,
          294,
          295,
          296,
          297,
          298,
          299,
          300,
          301,
          302,
          303,
          304,
          305,
          306,
          307,
          308,
          309,
          310,
          311,
          312,
          313,
          314,
          315,
          316,
          317,
          318,
          319,
          320,
          321,
          322,
          323,
          324,
          325,
          326,
          327,
          328,
          329,
          330,
          331,
          332,
          333,
          334,
          335,
          336,
          337,
          338,
          339,
          340,
          341,
          342,
          343,
          344,
          345,
          346,
          347,
          348,
          349,
          350,
          351,
          352,
          353,
          354,
          355,
          356,
          357,
          358,
          359,
          360,
          361,
          362,
          363,
          364,
          365,
          366,
          367,
          368,
          369,
          370,
          371,
          372,
          373,
          374,
          375,
          376,
          377,
          378,
          379,
          380,
          381,
          382,
          383,
          384,
          385,
          386,
          387,
          388,
          389,
          390,
          391,
          392,
          393,
          394,
          395,
          396,
          397,
          398,
          399,
          400,
          401,
          402,
          403,
          404,
          405,
          406,
          407,
          408,
          409,
          410,
          411,
          412,
          413,
          414,
          415,
          416,
          417,
          418,
          419,
          420,
          421,
          422,
          423,
          424,
          425,
          426,
          427,
          428,
          429,
          430,
          431,
          432,
          433,
          434,
          435,
          436,
          437,
          438,
          439,
          440,
          441,
          442,
          443,
          444,
          445,
          446,
          447,
          448,
          449,
          450,
          451,
          452,
          453,
          454,
          455,
          456,
          457,
          458,
          459,
          460,
          461,
          462,
          463,
          464,
          465,
          466,
          467,
          468,
          469,
          470,
          471,
          472,
          473,
          474,
          475,
          476,
          477,
          478,
          479,
          480,
          481,
          482,
          483,
          484,
          485,
          486,
          487,
          488,
          489,
          490,
          491,
          492,
          493,
          494,
          495,
          496,
          497,
          498,
          499
         ],
         "xaxis": "x",
         "y": [
          -10.6,
          -4.1,
          -7.2,
          -2.2,
          -3.7,
          -1.6,
          -4.1,
          -4.4,
          -4.4,
          -8.2,
          -7,
          -3.7,
          -5,
          -7.9,
          -8.3,
          -1.6,
          -10.1,
          -6.4,
          -4.2,
          -3.7,
          -3.3,
          -3.5,
          -2.3,
          -3.9,
          -3.2,
          -2.7,
          -3.2,
          -7.2,
          -3.9,
          -4.4,
          -9.2,
          -4.5,
          -2,
          -4.4,
          -4.3,
          -6.3,
          -5,
          -5,
          -2.6,
          -5,
          -3.7,
          -2.4,
          -3.1,
          -3.3,
          -2.6,
          -4.6,
          -2.4,
          -4.4,
          -4.2,
          -0.6,
          -1.1,
          -2.7,
          -3.8,
          -6.7,
          -6.8,
          -4.2,
          -3.5,
          -2.1,
          -2.4,
          -4.8,
          -7.6,
          -6,
          -2.7,
          -3.6,
          -1.6,
          -1.9,
          -5.2,
          -3.7,
          -2,
          -3.4,
          -1.7,
          -4,
          -4,
          -1.9,
          -6.1,
          -6.3,
          -5,
          -5.2,
          -1.6,
          -2.8,
          -5.6,
          -2.9,
          -5.2,
          -2.1,
          -3.7,
          -3.3,
          -2,
          -3.2,
          -1.5,
          -6.7,
          -2.6,
          -4.7,
          -3.1,
          -4.9,
          -4.5,
          -4.7,
          -4.8,
          -2.7,
          -2.6,
          -3.7,
          -5.3,
          -5.3,
          -2,
          -4,
          -1.7,
          -2.4,
          -7,
          -2.9,
          -1.7,
          -2.4,
          -2.5,
          -4.2,
          -2.8,
          -5.8,
          -4.8,
          -2.1,
          -1.1,
          -2.8,
          -2.9,
          -8.7,
          -6.6,
          -1.8,
          -4.6,
          -4.9,
          -3.9,
          -1.7,
          -2.1,
          -0.5,
          -6.5,
          -1.4,
          -1.8,
          -8,
          -0.2,
          -3.2,
          -2.4,
          -4.2,
          -5.1,
          -5.1,
          -4.8,
          -3.9,
          -2.9,
          -5.4,
          -2.8,
          -2.1,
          -6.1,
          -3.8,
          -4.9,
          -2.9,
          -3.1,
          -4.7,
          -2.3,
          -0.5,
          -4.5,
          -2.9,
          -1.6,
          -4.7,
          -3.1,
          -2.8,
          -3,
          -4.2,
          -3.9,
          -3.2,
          -2.7,
          -5.3,
          -5.3,
          -3.1,
          -3.7,
          -0.9,
          -3.2,
          -0.9,
          -1.1,
          -1.4,
          -5.2,
          -6.4,
          -2,
          -4,
          -2.9,
          -5.2,
          -4.7,
          -1.9,
          -3.3,
          -9.2,
          -1.5,
          -2.6,
          -4.6,
          -3.9,
          -4.5,
          -4.4,
          -2.1,
          -2.4,
          -2.2,
          -2.9,
          -3.3,
          -2.4,
          -4.4,
          -2.7,
          -2.3,
          -0.9,
          -2.5,
          -2.3,
          -5.9,
          -4.6,
          -3.4,
          -4.8,
          -5.3,
          -4.6,
          -4.1,
          -6.5,
          -1.6,
          -4,
          -3.7,
          -4.2,
          -7,
          -0.2,
          -1.3,
          -2.2,
          -1.8,
          -2.2,
          -3.8,
          -5,
          -3.1,
          -1.4,
          -3,
          -5.5,
          -2.9,
          -1.5,
          -3.2,
          -3.6,
          -1.4,
          -1.6,
          -6,
          -6,
          -5.1,
          -6.2,
          -5,
          -6.1,
          -1.4,
          -5.3,
          -5.1,
          -4,
          -4.1,
          -2.9,
          -6.2,
          -3.6,
          -1.3,
          -3.9,
          -7.5,
          -3.8,
          -7.5,
          -5,
          -2.6,
          -5.1,
          -0.3,
          -3.5,
          -4.3,
          -4.5,
          -1.1,
          -4.3,
          -1.7,
          -1.5,
          -0.1,
          -9.8,
          -5.5,
          -6.3,
          -4.6,
          -1.3,
          -3.8,
          -4.5,
          -2.7,
          -1.7,
          -1.3,
          -4.4,
          -2.7,
          -7.2,
          -2.8,
          -1.4,
          -2.3,
          -3.3,
          -5.5,
          -4.6,
          -2.8,
          -1.9,
          -4.3,
          -5,
          -0.6,
          -3.6,
          -1.9,
          -2.2,
          -1,
          -1.1,
          -6.2,
          -4.3,
          -3.1,
          -2.2,
          -7.3,
          -2,
          -1.1,
          -4.3,
          -0.8,
          -4.3,
          -0.4,
          -3.5,
          -1.2,
          -1.6,
          -1.2,
          -2.7,
          -2.6,
          -2.9,
          -4.7,
          -1.8,
          -2,
          -1.1,
          -5,
          -5.1,
          -4.3,
          -2.7,
          -1.8,
          -4.3,
          -1.3,
          -2.4,
          -2.8,
          -7,
          -4.8,
          -1.9,
          -4.8,
          -1.4,
          -3.3,
          -1,
          -4.5,
          -3.8,
          -1.3,
          -1.4,
          -0.7,
          -4.1,
          -3.4,
          -1.3,
          -1.6,
          -1.2,
          -7.3,
          -6.5,
          -3.7,
          -5.6,
          -0.5,
          -2,
          -3.3,
          -5.4,
          -1.6,
          -4.1,
          -1.3,
          -6.2,
          -0.9,
          -2.8,
          -1.6,
          -2.4,
          -5.6,
          -4.5,
          -0.3,
          -7.1,
          -3.2,
          -4.2,
          -5.9,
          -1.4,
          -3.9,
          -3.8,
          -3.2,
          -5.3,
          -1.3,
          -4.2,
          -3.5,
          -1.2,
          -4.8,
          -3.7,
          -2.9,
          -2.6,
          -1.7,
          -4.5,
          -4,
          -4.1,
          -3.8,
          -1.9,
          -3.1,
          -0.8,
          -7.9,
          -3.6,
          -6,
          -2.9,
          -5.2,
          -4.2,
          -1.3,
          -2.9,
          -5.8,
          -0.6,
          -6.4,
          -1.9,
          -4.5,
          -5.2,
          -2.2,
          -2.5,
          -2.3,
          -1.2,
          -3.1,
          -5.3,
          -2.9,
          -6,
          -1.3,
          -3.4,
          -1.9,
          -2.1,
          -5,
          -3.6,
          -1,
          -5.4,
          -3.6,
          -1.2,
          -4.4,
          -6.4,
          -2.3,
          -2.6,
          -3.1,
          -6.1,
          -6.5,
          -6.7,
          -0.5,
          -2.9,
          -5.3,
          -3.1,
          -4.7,
          -3.5,
          -1.8,
          -2.1,
          -1,
          -3.5,
          -2.3,
          -3.9,
          -2.2,
          -1.5,
          -3.7,
          -4.7,
          -5.8,
          -3.2,
          -3.4,
          -2.9,
          -3.4,
          -2.7,
          -3.6,
          -4.2,
          -2.8,
          -5.7,
          -2.1,
          -1.1,
          -3.8,
          -2.1,
          -4.5,
          -1.3,
          -1.8,
          -1.8,
          -2,
          -0.9,
          -1.8,
          -6.2,
          -3,
          -1.7,
          -4.4,
          -2.8,
          -2.9,
          -0.5,
          -3.7,
          -4,
          -6.1,
          -1.6,
          -1.9,
          -2.7,
          -5.9,
          -4.4,
          -2.5,
          -2.4,
          -1.1,
          -4,
          -3.8,
          -5,
          -4,
          -7.1,
          -3.9,
          -1.3,
          -4.3,
          -2,
          -1.2,
          -3,
          -0.4,
          -1.7,
          -3.9,
          -3.9,
          -5.4,
          -1.8,
          -1.7,
          -3.8,
          -1.8,
          -5.6,
          -5.2,
          -3.6
         ],
         "yaxis": "y"
        },
        {
         "hovertemplate": "variable=drift<br>index=%{x}<br>value=%{y}<extra></extra>",
         "legendgroup": "drift",
         "line": {
          "color": "#EF553B",
          "dash": "solid"
         },
         "marker": {
          "symbol": "circle"
         },
         "mode": "lines",
         "name": "drift",
         "orientation": "v",
         "showlegend": true,
         "type": "scatter",
         "x": [
          0,
          1,
          2,
          3,
          4,
          5,
          6,
          7,
          8,
          9,
          10,
          11,
          12,
          13,
          14,
          15,
          16,
          17,
          18,
          19,
          20,
          21,
          22,
          23,
          24,
          25,
          26,
          27,
          28,
          29,
          30,
          31,
          32,
          33,
          34,
          35,
          36,
          37,
          38,
          39,
          40,
          41,
          42,
          43,
          44,
          45,
          46,
          47,
          48,
          49,
          50,
          51,
          52,
          53,
          54,
          55,
          56,
          57,
          58,
          59,
          60,
          61,
          62,
          63,
          64,
          65,
          66,
          67,
          68,
          69,
          70,
          71,
          72,
          73,
          74,
          75,
          76,
          77,
          78,
          79,
          80,
          81,
          82,
          83,
          84,
          85,
          86,
          87,
          88,
          89,
          90,
          91,
          92,
          93,
          94,
          95,
          96,
          97,
          98,
          99,
          100,
          101,
          102,
          103,
          104,
          105,
          106,
          107,
          108,
          109,
          110,
          111,
          112,
          113,
          114,
          115,
          116,
          117,
          118,
          119,
          120,
          121,
          122,
          123,
          124,
          125,
          126,
          127,
          128,
          129,
          130,
          131,
          132,
          133,
          134,
          135,
          136,
          137,
          138,
          139,
          140,
          141,
          142,
          143,
          144,
          145,
          146,
          147,
          148,
          149,
          150,
          151,
          152,
          153,
          154,
          155,
          156,
          157,
          158,
          159,
          160,
          161,
          162,
          163,
          164,
          165,
          166,
          167,
          168,
          169,
          170,
          171,
          172,
          173,
          174,
          175,
          176,
          177,
          178,
          179,
          180,
          181,
          182,
          183,
          184,
          185,
          186,
          187,
          188,
          189,
          190,
          191,
          192,
          193,
          194,
          195,
          196,
          197,
          198,
          199,
          200,
          201,
          202,
          203,
          204,
          205,
          206,
          207,
          208,
          209,
          210,
          211,
          212,
          213,
          214,
          215,
          216,
          217,
          218,
          219,
          220,
          221,
          222,
          223,
          224,
          225,
          226,
          227,
          228,
          229,
          230,
          231,
          232,
          233,
          234,
          235,
          236,
          237,
          238,
          239,
          240,
          241,
          242,
          243,
          244,
          245,
          246,
          247,
          248,
          249,
          250,
          251,
          252,
          253,
          254,
          255,
          256,
          257,
          258,
          259,
          260,
          261,
          262,
          263,
          264,
          265,
          266,
          267,
          268,
          269,
          270,
          271,
          272,
          273,
          274,
          275,
          276,
          277,
          278,
          279,
          280,
          281,
          282,
          283,
          284,
          285,
          286,
          287,
          288,
          289,
          290,
          291,
          292,
          293,
          294,
          295,
          296,
          297,
          298,
          299,
          300,
          301,
          302,
          303,
          304,
          305,
          306,
          307,
          308,
          309,
          310,
          311,
          312,
          313,
          314,
          315,
          316,
          317,
          318,
          319,
          320,
          321,
          322,
          323,
          324,
          325,
          326,
          327,
          328,
          329,
          330,
          331,
          332,
          333,
          334,
          335,
          336,
          337,
          338,
          339,
          340,
          341,
          342,
          343,
          344,
          345,
          346,
          347,
          348,
          349,
          350,
          351,
          352,
          353,
          354,
          355,
          356,
          357,
          358,
          359,
          360,
          361,
          362,
          363,
          364,
          365,
          366,
          367,
          368,
          369,
          370,
          371,
          372,
          373,
          374,
          375,
          376,
          377,
          378,
          379,
          380,
          381,
          382,
          383,
          384,
          385,
          386,
          387,
          388,
          389,
          390,
          391,
          392,
          393,
          394,
          395,
          396,
          397,
          398,
          399,
          400,
          401,
          402,
          403,
          404,
          405,
          406,
          407,
          408,
          409,
          410,
          411,
          412,
          413,
          414,
          415,
          416,
          417,
          418,
          419,
          420,
          421,
          422,
          423,
          424,
          425,
          426,
          427,
          428,
          429,
          430,
          431,
          432,
          433,
          434,
          435,
          436,
          437,
          438,
          439,
          440,
          441,
          442,
          443,
          444,
          445,
          446,
          447,
          448,
          449,
          450,
          451,
          452,
          453,
          454,
          455,
          456,
          457,
          458,
          459,
          460,
          461,
          462,
          463,
          464,
          465,
          466,
          467,
          468,
          469,
          470,
          471,
          472,
          473,
          474,
          475,
          476,
          477,
          478,
          479,
          480,
          481,
          482,
          483,
          484,
          485,
          486,
          487,
          488,
          489,
          490,
          491,
          492,
          493,
          494,
          495,
          496,
          497,
          498,
          499
         ],
         "xaxis": "x",
         "y": [
          -2.9,
          -6.3,
          -4.8,
          -5.2,
          -1.9,
          -3,
          -8.3,
          -2.4,
          -7.2,
          -4.4,
          -7,
          -3.7,
          -4.3,
          -3.1,
          -4,
          -6,
          -3.4,
          -6.4,
          -3.4,
          -5.4,
          -3.1,
          -7,
          -5.1,
          -4.3,
          -3.1,
          -2.7,
          -1.6,
          -5.3,
          -7.8,
          -3.2,
          -3.4,
          -5,
          -1.8,
          -7.3,
          -3.6,
          -4.3,
          -3.1,
          -2.7,
          -7.3,
          -2.4,
          -3.7,
          -6.5,
          -1.4,
          -4.2,
          -4,
          -4.5,
          -4.1,
          -4.3,
          -3.7,
          -2.7,
          -4.8,
          -3.3,
          -4.4,
          -1.8,
          -8.3,
          -5.5,
          -3.7,
          -3.1,
          -4.1,
          -5.5,
          -1.8,
          -4.8,
          -4.9,
          -1.7,
          -3,
          -5.7,
          -2.8,
          -3.6,
          -5.2,
          -4.9,
          -2.3,
          -3.3,
          -3.7,
          -1.6,
          -4.2,
          -6.1,
          -3.8,
          -1.5,
          -5,
          -1.2,
          -2.5,
          -5.3,
          -4.4,
          -3.7,
          -6.1,
          -2.5,
          -4.3,
          -2.9,
          -1.1,
          -2.9,
          -1.7,
          -1.5,
          -2.1,
          -1.5,
          -4.2,
          -4,
          -1.7,
          -3.6,
          -7.9,
          -3.5,
          -14.6,
          -10.1,
          -15.2,
          -10.4,
          -11.1,
          -8.7,
          -11.5,
          -4.5,
          -6.2,
          -7.8,
          -2.1,
          -0.3,
          -5.2,
          -1,
          -8,
          -3.3,
          -8.3,
          -3.9,
          -5.7,
          -6.7,
          -9.2,
          -3.9,
          -5.4,
          -5.7,
          -8.7,
          -8.9,
          -6.7,
          -8.4,
          -5,
          -11.1,
          -4,
          -4.4,
          -3.9,
          -4.5,
          -3.1,
          -4.5,
          -4.4,
          -5.6,
          -5.3,
          -8,
          -4.5,
          -9.6,
          -3.4,
          -6.3,
          -10,
          -5.5,
          -3.9,
          -6.8,
          -4.5,
          -7.4,
          -8.8,
          -5.6,
          -1.8,
          -2.9,
          -7.5,
          -2.9,
          -3.3,
          -3,
          -8.5,
          -3.7,
          -5.7,
          -7.7,
          -8.6,
          -8,
          -3.2,
          -5.9,
          -5.7,
          -5.6,
          -4.9,
          -5.8,
          -5.6,
          -8.8,
          -9.4,
          -6.1,
          -6.8,
          -8.8,
          -5.1,
          -5.7,
          -5.3,
          -5.2,
          -7.1,
          -4.2,
          -1.9,
          -7.9,
          -6.2,
          -6.5,
          -4.4,
          -7.5,
          -7.8,
          -5.6,
          -4.8,
          -6.7,
          -7.6,
          -9.9,
          -6.2,
          -6.9,
          -8.9,
          -8.7,
          -3.6,
          -9.2,
          -2.1,
          -8.1,
          -8,
          -8,
          -2.4,
          -2.6,
          -9.3,
          -5.8,
          -6.3,
          -11.2,
          -7.1,
          -7.7,
          -9.2,
          -2.5,
          -8.8,
          -6.1,
          -8.1,
          -8,
          -8.3,
          -5.9,
          -8.4,
          -8.5,
          -9.3,
          -5.7,
          -4.7,
          -6.1,
          -5.7,
          -6.6,
          -8.6,
          -5.3,
          -4.3,
          -4.1,
          -6.5,
          -5.5,
          -3.2,
          -4.5,
          -3.7,
          -4,
          -3.1,
          -6.1,
          -3.5,
          -4.8,
          -5,
          -1.4,
          -5.4,
          -6.5,
          -8.8,
          -6.6,
          -7.6,
          -4.6,
          -3.3,
          -4.2,
          -5.6,
          -5.9,
          -8.1,
          -5.7,
          -9.3,
          -10.4,
          -7.4,
          -5.6,
          -7,
          -5.6,
          -3.8,
          -8.3,
          -5.9,
          -5.3,
          -5.7,
          -9.5,
          -9.3,
          -11,
          -7.2,
          -8.7,
          -4.4,
          -9.3,
          -7.4,
          -3.9,
          -7.2,
          -6.9,
          -8.1,
          -7.2,
          -10.4,
          -3.6,
          -7.4,
          -8.8,
          -5.9,
          -5.6,
          -4.6,
          -7,
          -7,
          -7.1,
          -6.3,
          -4.6,
          -0.4,
          -8.7,
          -8.8,
          -9.2,
          -7.2,
          -2.6,
          -7.4,
          -3.3,
          -4.2,
          -5.8,
          -11.5,
          -1.8,
          -7.1,
          -4.8,
          -2.9,
          -4.9,
          -5.1,
          -7.1,
          -4.7,
          -3.5,
          -6,
          -5.7,
          -5.4,
          -4.8,
          -4.7,
          -4.9,
          -8,
          -2.8,
          -0.4,
          -1.6,
          -6.9,
          -6.5,
          -4.7,
          -1.3,
          -7.1,
          -5.7,
          -3.7,
          -5,
          -4.9,
          -5.9,
          -7.6,
          -3.6,
          -2.7,
          -7.7,
          -3.4,
          -6.1,
          -6.1,
          -5.1,
          -1.1,
          -8.4,
          -6.9,
          -7.8,
          -2.9,
          -6.8,
          -5.7,
          -9.5,
          -6.6,
          -5.2,
          -0.4,
          -6.4,
          -11.8,
          -2.3,
          -9.8,
          -6,
          -4.4,
          -4.2,
          -5.7,
          -10,
          -2.6,
          -5.7,
          -6.3,
          -7.9,
          -7.9,
          -6.9,
          -9.5,
          -7.5,
          -7.7,
          -5.2,
          -8.4,
          -9.2,
          -6.4,
          -1.8,
          -5.9,
          -2,
          -6.9,
          -8.6,
          -2,
          -5.7,
          -3.3,
          -4.5,
          -4.3,
          -4.7,
          -10.2,
          -3.1,
          -6.3,
          -6.8,
          -7.2,
          -6.6,
          -6.6,
          -7.1,
          -6.4,
          -2,
          -8.2,
          -6.7,
          -6.1,
          -5.4,
          -6.2,
          -9.8,
          -3.5,
          -7.6,
          -1,
          -4.3,
          -8.2,
          -5.8,
          -3.9,
          -7.9,
          -5.3,
          -8.3,
          -6.6,
          -4.3,
          -6.9,
          -4.9,
          -6.5,
          -5.4,
          -10.5,
          -3.7,
          -6.9,
          -0.5,
          -4.9,
          -8.6,
          -2.4,
          -7.3,
          -7.2,
          -8.3,
          -6.7,
          -5,
          -7,
          -8.5,
          -4.2,
          -7.4,
          -4,
          -7.6,
          -8.4,
          -3.8,
          -3.8,
          -4.2,
          -6.5,
          -4.4,
          -6.4,
          -6.3,
          -6.4,
          -3.5,
          -4.5,
          -4.9,
          -6.3,
          -8.2,
          -4.7,
          -4.7,
          -5.8,
          -4.2,
          -7.1,
          -4.6,
          -6.9,
          -6.4,
          -6.6,
          -4.1,
          -9.2,
          -2.8,
          -3,
          -7.7,
          -7.4,
          -5,
          -2.8,
          -4.5,
          -2.9,
          -5.4,
          -4.5,
          -5.3,
          -3.4,
          -3.3,
          -2.9,
          -2.9,
          -4.2,
          -3,
          -7.5,
          -2.5,
          -7.4,
          -9.3,
          -4.1,
          -8.5,
          -3.8,
          -5.3,
          -5.4,
          -3.7,
          -5.9,
          -4.8,
          -3,
          -3.9,
          -1.3,
          -5.8,
          -5.3,
          -0.7,
          -8.3,
          -6.5,
          -8.1,
          -3.7,
          -5.1,
          -2.8
         ],
         "yaxis": "y"
        }
       ],
       "layout": {
        "legend": {
         "title": {
          "text": "variable"
         },
         "tracegroupgap": 0
        },
        "margin": {
         "t": 60
        },
        "template": {
         "data": {
          "bar": [
           {
            "error_x": {
             "color": "#2a3f5f"
            },
            "error_y": {
             "color": "#2a3f5f"
            },
            "marker": {
             "line": {
              "color": "#E5ECF6",
              "width": 0.5
             },
             "pattern": {
              "fillmode": "overlay",
              "size": 10,
              "solidity": 0.2
             }
            },
            "type": "bar"
           }
          ],
          "barpolar": [
           {
            "marker": {
             "line": {
              "color": "#E5ECF6",
              "width": 0.5
             },
             "pattern": {
              "fillmode": "overlay",
              "size": 10,
              "solidity": 0.2
             }
            },
            "type": "barpolar"
           }
          ],
          "carpet": [
           {
            "aaxis": {
             "endlinecolor": "#2a3f5f",
             "gridcolor": "white",
             "linecolor": "white",
             "minorgridcolor": "white",
             "startlinecolor": "#2a3f5f"
            },
            "baxis": {
             "endlinecolor": "#2a3f5f",
             "gridcolor": "white",
             "linecolor": "white",
             "minorgridcolor": "white",
             "startlinecolor": "#2a3f5f"
            },
            "type": "carpet"
           }
          ],
          "choropleth": [
           {
            "colorbar": {
             "outlinewidth": 0,
             "ticks": ""
            },
            "type": "choropleth"
           }
          ],
          "contour": [
           {
            "colorbar": {
             "outlinewidth": 0,
             "ticks": ""
            },
            "colorscale": [
             [
              0,
              "#0d0887"
             ],
             [
              0.1111111111111111,
              "#46039f"
             ],
             [
              0.2222222222222222,
              "#7201a8"
             ],
             [
              0.3333333333333333,
              "#9c179e"
             ],
             [
              0.4444444444444444,
              "#bd3786"
             ],
             [
              0.5555555555555556,
              "#d8576b"
             ],
             [
              0.6666666666666666,
              "#ed7953"
             ],
             [
              0.7777777777777778,
              "#fb9f3a"
             ],
             [
              0.8888888888888888,
              "#fdca26"
             ],
             [
              1,
              "#f0f921"
             ]
            ],
            "type": "contour"
           }
          ],
          "contourcarpet": [
           {
            "colorbar": {
             "outlinewidth": 0,
             "ticks": ""
            },
            "type": "contourcarpet"
           }
          ],
          "heatmap": [
           {
            "colorbar": {
             "outlinewidth": 0,
             "ticks": ""
            },
            "colorscale": [
             [
              0,
              "#0d0887"
             ],
             [
              0.1111111111111111,
              "#46039f"
             ],
             [
              0.2222222222222222,
              "#7201a8"
             ],
             [
              0.3333333333333333,
              "#9c179e"
             ],
             [
              0.4444444444444444,
              "#bd3786"
             ],
             [
              0.5555555555555556,
              "#d8576b"
             ],
             [
              0.6666666666666666,
              "#ed7953"
             ],
             [
              0.7777777777777778,
              "#fb9f3a"
             ],
             [
              0.8888888888888888,
              "#fdca26"
             ],
             [
              1,
              "#f0f921"
             ]
            ],
            "type": "heatmap"
           }
          ],
          "heatmapgl": [
           {
            "colorbar": {
             "outlinewidth": 0,
             "ticks": ""
            },
            "colorscale": [
             [
              0,
              "#0d0887"
             ],
             [
              0.1111111111111111,
              "#46039f"
             ],
             [
              0.2222222222222222,
              "#7201a8"
             ],
             [
              0.3333333333333333,
              "#9c179e"
             ],
             [
              0.4444444444444444,
              "#bd3786"
             ],
             [
              0.5555555555555556,
              "#d8576b"
             ],
             [
              0.6666666666666666,
              "#ed7953"
             ],
             [
              0.7777777777777778,
              "#fb9f3a"
             ],
             [
              0.8888888888888888,
              "#fdca26"
             ],
             [
              1,
              "#f0f921"
             ]
            ],
            "type": "heatmapgl"
           }
          ],
          "histogram": [
           {
            "marker": {
             "pattern": {
              "fillmode": "overlay",
              "size": 10,
              "solidity": 0.2
             }
            },
            "type": "histogram"
           }
          ],
          "histogram2d": [
           {
            "colorbar": {
             "outlinewidth": 0,
             "ticks": ""
            },
            "colorscale": [
             [
              0,
              "#0d0887"
             ],
             [
              0.1111111111111111,
              "#46039f"
             ],
             [
              0.2222222222222222,
              "#7201a8"
             ],
             [
              0.3333333333333333,
              "#9c179e"
             ],
             [
              0.4444444444444444,
              "#bd3786"
             ],
             [
              0.5555555555555556,
              "#d8576b"
             ],
             [
              0.6666666666666666,
              "#ed7953"
             ],
             [
              0.7777777777777778,
              "#fb9f3a"
             ],
             [
              0.8888888888888888,
              "#fdca26"
             ],
             [
              1,
              "#f0f921"
             ]
            ],
            "type": "histogram2d"
           }
          ],
          "histogram2dcontour": [
           {
            "colorbar": {
             "outlinewidth": 0,
             "ticks": ""
            },
            "colorscale": [
             [
              0,
              "#0d0887"
             ],
             [
              0.1111111111111111,
              "#46039f"
             ],
             [
              0.2222222222222222,
              "#7201a8"
             ],
             [
              0.3333333333333333,
              "#9c179e"
             ],
             [
              0.4444444444444444,
              "#bd3786"
             ],
             [
              0.5555555555555556,
              "#d8576b"
             ],
             [
              0.6666666666666666,
              "#ed7953"
             ],
             [
              0.7777777777777778,
              "#fb9f3a"
             ],
             [
              0.8888888888888888,
              "#fdca26"
             ],
             [
              1,
              "#f0f921"
             ]
            ],
            "type": "histogram2dcontour"
           }
          ],
          "mesh3d": [
           {
            "colorbar": {
             "outlinewidth": 0,
             "ticks": ""
            },
            "type": "mesh3d"
           }
          ],
          "parcoords": [
           {
            "line": {
             "colorbar": {
              "outlinewidth": 0,
              "ticks": ""
             }
            },
            "type": "parcoords"
           }
          ],
          "pie": [
           {
            "automargin": true,
            "type": "pie"
           }
          ],
          "scatter": [
           {
            "fillpattern": {
             "fillmode": "overlay",
             "size": 10,
             "solidity": 0.2
            },
            "type": "scatter"
           }
          ],
          "scatter3d": [
           {
            "line": {
             "colorbar": {
              "outlinewidth": 0,
              "ticks": ""
             }
            },
            "marker": {
             "colorbar": {
              "outlinewidth": 0,
              "ticks": ""
             }
            },
            "type": "scatter3d"
           }
          ],
          "scattercarpet": [
           {
            "marker": {
             "colorbar": {
              "outlinewidth": 0,
              "ticks": ""
             }
            },
            "type": "scattercarpet"
           }
          ],
          "scattergeo": [
           {
            "marker": {
             "colorbar": {
              "outlinewidth": 0,
              "ticks": ""
             }
            },
            "type": "scattergeo"
           }
          ],
          "scattergl": [
           {
            "marker": {
             "colorbar": {
              "outlinewidth": 0,
              "ticks": ""
             }
            },
            "type": "scattergl"
           }
          ],
          "scattermapbox": [
           {
            "marker": {
             "colorbar": {
              "outlinewidth": 0,
              "ticks": ""
             }
            },
            "type": "scattermapbox"
           }
          ],
          "scatterpolar": [
           {
            "marker": {
             "colorbar": {
              "outlinewidth": 0,
              "ticks": ""
             }
            },
            "type": "scatterpolar"
           }
          ],
          "scatterpolargl": [
           {
            "marker": {
             "colorbar": {
              "outlinewidth": 0,
              "ticks": ""
             }
            },
            "type": "scatterpolargl"
           }
          ],
          "scatterternary": [
           {
            "marker": {
             "colorbar": {
              "outlinewidth": 0,
              "ticks": ""
             }
            },
            "type": "scatterternary"
           }
          ],
          "surface": [
           {
            "colorbar": {
             "outlinewidth": 0,
             "ticks": ""
            },
            "colorscale": [
             [
              0,
              "#0d0887"
             ],
             [
              0.1111111111111111,
              "#46039f"
             ],
             [
              0.2222222222222222,
              "#7201a8"
             ],
             [
              0.3333333333333333,
              "#9c179e"
             ],
             [
              0.4444444444444444,
              "#bd3786"
             ],
             [
              0.5555555555555556,
              "#d8576b"
             ],
             [
              0.6666666666666666,
              "#ed7953"
             ],
             [
              0.7777777777777778,
              "#fb9f3a"
             ],
             [
              0.8888888888888888,
              "#fdca26"
             ],
             [
              1,
              "#f0f921"
             ]
            ],
            "type": "surface"
           }
          ],
          "table": [
           {
            "cells": {
             "fill": {
              "color": "#EBF0F8"
             },
             "line": {
              "color": "white"
             }
            },
            "header": {
             "fill": {
              "color": "#C8D4E3"
             },
             "line": {
              "color": "white"
             }
            },
            "type": "table"
           }
          ]
         },
         "layout": {
          "annotationdefaults": {
           "arrowcolor": "#2a3f5f",
           "arrowhead": 0,
           "arrowwidth": 1
          },
          "autotypenumbers": "strict",
          "coloraxis": {
           "colorbar": {
            "outlinewidth": 0,
            "ticks": ""
           }
          },
          "colorscale": {
           "diverging": [
            [
             0,
             "#8e0152"
            ],
            [
             0.1,
             "#c51b7d"
            ],
            [
             0.2,
             "#de77ae"
            ],
            [
             0.3,
             "#f1b6da"
            ],
            [
             0.4,
             "#fde0ef"
            ],
            [
             0.5,
             "#f7f7f7"
            ],
            [
             0.6,
             "#e6f5d0"
            ],
            [
             0.7,
             "#b8e186"
            ],
            [
             0.8,
             "#7fbc41"
            ],
            [
             0.9,
             "#4d9221"
            ],
            [
             1,
             "#276419"
            ]
           ],
           "sequential": [
            [
             0,
             "#0d0887"
            ],
            [
             0.1111111111111111,
             "#46039f"
            ],
            [
             0.2222222222222222,
             "#7201a8"
            ],
            [
             0.3333333333333333,
             "#9c179e"
            ],
            [
             0.4444444444444444,
             "#bd3786"
            ],
            [
             0.5555555555555556,
             "#d8576b"
            ],
            [
             0.6666666666666666,
             "#ed7953"
            ],
            [
             0.7777777777777778,
             "#fb9f3a"
            ],
            [
             0.8888888888888888,
             "#fdca26"
            ],
            [
             1,
             "#f0f921"
            ]
           ],
           "sequentialminus": [
            [
             0,
             "#0d0887"
            ],
            [
             0.1111111111111111,
             "#46039f"
            ],
            [
             0.2222222222222222,
             "#7201a8"
            ],
            [
             0.3333333333333333,
             "#9c179e"
            ],
            [
             0.4444444444444444,
             "#bd3786"
            ],
            [
             0.5555555555555556,
             "#d8576b"
            ],
            [
             0.6666666666666666,
             "#ed7953"
            ],
            [
             0.7777777777777778,
             "#fb9f3a"
            ],
            [
             0.8888888888888888,
             "#fdca26"
            ],
            [
             1,
             "#f0f921"
            ]
           ]
          },
          "colorway": [
           "#636efa",
           "#EF553B",
           "#00cc96",
           "#ab63fa",
           "#FFA15A",
           "#19d3f3",
           "#FF6692",
           "#B6E880",
           "#FF97FF",
           "#FECB52"
          ],
          "font": {
           "color": "#2a3f5f"
          },
          "geo": {
           "bgcolor": "white",
           "lakecolor": "white",
           "landcolor": "#E5ECF6",
           "showlakes": true,
           "showland": true,
           "subunitcolor": "white"
          },
          "hoverlabel": {
           "align": "left"
          },
          "hovermode": "closest",
          "mapbox": {
           "style": "light"
          },
          "paper_bgcolor": "white",
          "plot_bgcolor": "#E5ECF6",
          "polar": {
           "angularaxis": {
            "gridcolor": "white",
            "linecolor": "white",
            "ticks": ""
           },
           "bgcolor": "#E5ECF6",
           "radialaxis": {
            "gridcolor": "white",
            "linecolor": "white",
            "ticks": ""
           }
          },
          "scene": {
           "xaxis": {
            "backgroundcolor": "#E5ECF6",
            "gridcolor": "white",
            "gridwidth": 2,
            "linecolor": "white",
            "showbackground": true,
            "ticks": "",
            "zerolinecolor": "white"
           },
           "yaxis": {
            "backgroundcolor": "#E5ECF6",
            "gridcolor": "white",
            "gridwidth": 2,
            "linecolor": "white",
            "showbackground": true,
            "ticks": "",
            "zerolinecolor": "white"
           },
           "zaxis": {
            "backgroundcolor": "#E5ECF6",
            "gridcolor": "white",
            "gridwidth": 2,
            "linecolor": "white",
            "showbackground": true,
            "ticks": "",
            "zerolinecolor": "white"
           }
          },
          "shapedefaults": {
           "line": {
            "color": "#2a3f5f"
           }
          },
          "ternary": {
           "aaxis": {
            "gridcolor": "white",
            "linecolor": "white",
            "ticks": ""
           },
           "baxis": {
            "gridcolor": "white",
            "linecolor": "white",
            "ticks": ""
           },
           "bgcolor": "#E5ECF6",
           "caxis": {
            "gridcolor": "white",
            "linecolor": "white",
            "ticks": ""
           }
          },
          "title": {
           "x": 0.05
          },
          "xaxis": {
           "automargin": true,
           "gridcolor": "white",
           "linecolor": "white",
           "ticks": "",
           "title": {
            "standoff": 15
           },
           "zerolinecolor": "white",
           "zerolinewidth": 2
          },
          "yaxis": {
           "automargin": true,
           "gridcolor": "white",
           "linecolor": "white",
           "ticks": "",
           "title": {
            "standoff": 15
           },
           "zerolinecolor": "white",
           "zerolinewidth": 2
          }
         }
        },
        "xaxis": {
         "anchor": "y",
         "domain": [
          0,
          1
         ],
         "title": {
          "text": "Episodes"
         }
        },
        "yaxis": {
         "anchor": "x",
         "domain": [
          0,
          1
         ],
         "range": [
          -15,
          2
         ],
         "title": {
          "text": "Average sum of reward"
         }
        }
       }
      }
     },
     "metadata": {},
     "output_type": "display_data"
    }
   ],
   "source": [
    "runs = 10 #repeat trainning process\n",
    "episodes = 500\n",
    "drift_ep = 100\n",
    "DQag_drift = np.empty((episodes, runs))\n",
    "DQag = np.empty((episodes,runs))\n",
    "\n",
    "#agent1 = run_qlearner(episodesT, 0.2, epsilon=0.1, alpha=0.2)[0]\n",
    "for i in tqdm(range(runs)):\n",
    "    agent = DQNAgent(state_dim, action_dim)\n",
    "    DQag_drift[:, i] = run_agent(episodes,drift_ep,0,0)\n",
    "\n",
    "for i in tqdm(range(runs)):\n",
    "    #without drift\n",
    "    agent = DQNAgent(state_dim, action_dim)\n",
    "    DQag[:, i] = run_agent(episodes,0,0,0)\n",
    "\n",
    "#data_eps1 = {'drift':np.apply_along_axis(np.mean, 1, DQag_drift) }\n",
    "#df_eps1 = pd.DataFrame(data=data_eps1)\n",
    "\n",
    "\n",
    "data_eps1 = {'without': np.apply_along_axis(np.mean, 1, DQag),\n",
    "            'drift':np.apply_along_axis(np.mean, 1, DQag_drift) }\n",
    "df_eps1 = pd.DataFrame(data=data_eps1)\n",
    "#print(data_eps1)\n",
    "#print(df_eps1.shape)\n",
    "fug = px.line(data_eps1, y=['without','drift'])\n",
    "fug.update_layout(xaxis_title = 'Episodes', yaxis_title = 'Average sum of reward',yaxis_range=[-15,2])\n",
    "fug.show()\n"
   ]
  },
  {
   "cell_type": "markdown",
   "metadata": {},
   "source": []
  },
  {
   "cell_type": "code",
   "execution_count": 9,
   "metadata": {},
   "outputs": [
    {
     "data": {
      "image/png": "[encoded data removed]",
      "text/plain": [
       "<Figure size 1000x1000 with 2 Axes>"
      ]
     },
     "metadata": {},
     "output_type": "display_data"
    }
   ],
   "source": [
    "agent.plot_training_progress()"
   ]
  },
  {
   "cell_type": "code",
   "execution_count": 7,
   "metadata": {},
   "outputs": [],
   "source": [
    "# 定义 State-Action Embedding 和 Q-Network\n",
    "class StateActionEmbedding(nn.Module):\n",
    "    def __init__(self, state_dim, action_dim, embedding_dim=64):\n",
    "        super(StateActionEmbedding, self).__init__()\n",
    "        self.state_embedding = nn.Sequential(\n",
    "            nn.Linear(state_dim, 128),\n",
    "            nn.ReLU(),\n",
    "            nn.Linear(128, embedding_dim)\n",
    "        )\n",
    "        self.action_embedding = nn.Sequential(\n",
    "            nn.Linear(action_dim, 128),\n",
    "            nn.ReLU(),\n",
    "            nn.Linear(128, embedding_dim)\n",
    "        )\n",
    "\n",
    "    def forward(self, state, action):\n",
    "        state_embed = self.state_embedding(state)\n",
    "        action_embed = self.action_embedding(action)\n",
    "        return torch.cat([state_embed, action_embed], dim=-1)\n",
    "\n",
    "class QNetwork(nn.Module):\n",
    "    def __init__(self, embedding_dim, hidden_dim=128):\n",
    "        super(QNetwork, self).__init__()\n",
    "        self.fc = nn.Sequential(\n",
    "            nn.Linear(embedding_dim * 2, hidden_dim),\n",
    "            nn.ReLU(),\n",
    "            nn.Linear(hidden_dim, 1)\n",
    "        )\n",
    "\n",
    "    def forward(self, state_action_embed):\n",
    "        return self.fc(state_action_embed)\n",
    "\n",
    "# 定义 DQN Agent\n",
    "class DQNAgent:\n",
    "    def __init__(self, state_dim, action_dim, embedding_dim=64, gamma=0.99, lr=1e-3, epsilon=1.0, epsilon_decay=0.995, epsilon_min=0.01):\n",
    "        self.state_dim = state_dim\n",
    "        self.action_dim = action_dim\n",
    "        self.embedding_dim = embedding_dim\n",
    "        self.gamma = gamma\n",
    "        self.epsilon = epsilon\n",
    "        self.epsilon_decay = epsilon_decay\n",
    "        self.epsilon_min = epsilon_min\n",
    "\n",
    "        self.episode_rewards = []\n",
    "        self.losses=[]\n",
    "\n",
    "        # 初始化网络\n",
    "        self._init_networks()\n",
    "\n",
    "        # 优化器\n",
    "        self.optimizer = optim.Adam(list(self.embedding_net.parameters()) + list(self.q_net.parameters()), lr=lr)\n",
    "\n",
    "        # 经验回放\n",
    "        self.memory = deque(maxlen=10000)\n",
    "\n",
    "    def _init_networks(self):\n",
    "        \"\"\"初始化嵌入网络和 Q 网络\"\"\"\n",
    "        self.embedding_net = StateActionEmbedding(self.state_dim, self.action_dim, self.embedding_dim)\n",
    "        self.q_net = QNetwork(self.embedding_dim)\n",
    "        self.target_q_net = QNetwork(self.embedding_dim)\n",
    "        self.target_q_net.load_state_dict(self.q_net.state_dict())\n",
    "\n",
    "    def update_networks(self, new_state_dim, new_action_dim):\n",
    "        \"\"\"更新网络以适应新的 state 和 action 维度\"\"\"\n",
    "        # 保存当前网络的参数\n",
    "        embedding_net_state_dict = self.embedding_net.state_dict()\n",
    "        q_net_state_dict = self.q_net.state_dict()\n",
    "\n",
    "        # 更新维度\n",
    "        self.state_dim = new_state_dim\n",
    "        self.action_dim = new_action_dim\n",
    "\n",
    "        # 重新初始化网络\n",
    "        self._init_networks()\n",
    "\n",
    "        # 加载之前保存的参数（如果可能）\n",
    "        self._load_previous_params(embedding_net_state_dict, q_net_state_dict)\n",
    "\n",
    "    def _load_previous_params(self, embedding_net_state_dict, q_net_state_dict):\n",
    "        \"\"\"加载之前保存的网络参数\"\"\"\n",
    "        # 加载 embedding_net 的参数\n",
    "        new_embedding_net_state_dict = self.embedding_net.state_dict()\n",
    "        for key in embedding_net_state_dict:\n",
    "            if key in new_embedding_net_state_dict and embedding_net_state_dict[key].shape == new_embedding_net_state_dict[key].shape:\n",
    "                new_embedding_net_state_dict[key] = embedding_net_state_dict[key]\n",
    "        self.embedding_net.load_state_dict(new_embedding_net_state_dict)\n",
    "\n",
    "        # 加载 q_net 的参数\n",
    "        new_q_net_state_dict = self.q_net.state_dict()\n",
    "        for key in q_net_state_dict:\n",
    "            if key in new_q_net_state_dict and q_net_state_dict[key].shape == new_q_net_state_dict[key].shape:\n",
    "                new_q_net_state_dict[key] = q_net_state_dict[key]\n",
    "        self.q_net.load_state_dict(new_q_net_state_dict)\n",
    "\n",
    "    def get_action(self, state, state_to_index):\n",
    "        if np.random.rand() < self.epsilon:\n",
    "            return random.randint(0, self.action_dim - 1)  # 随机动作\n",
    "        else:\n",
    "            state_index = state_to_index[state]  # 将 state 转换为索引\n",
    "            state_one_hot = torch.zeros(self.state_dim).unsqueeze(0)\n",
    "            state_one_hot[0, state_index] = 1  # 转换为 one-hot 编码\n",
    "            q_values = []\n",
    "            for action in range(self.action_dim):\n",
    "                action_one_hot = torch.zeros(self.action_dim).unsqueeze(0)\n",
    "                action_one_hot[0, action] = 1\n",
    "                state_action_embed = self.embedding_net(state_one_hot, action_one_hot)\n",
    "                q_value = self.q_net(state_action_embed)\n",
    "                q_values.append(q_value.item())\n",
    "            return np.argmax(q_values)\n",
    "\n",
    "    def remember(self, state, action, reward, next_state, done):\n",
    "        self.memory.append((state, action, reward, next_state, done))\n",
    "\n",
    "    def train(self, batch_size=1, state_to_index=None):\n",
    "        if len(self.memory) < batch_size:\n",
    "            return\n",
    "\n",
    "        # 从经验回放中采样一个样本（batch_size=1）\n",
    "        state, action, reward, next_state, done = self.memory[-1]\n",
    "\n",
    "        # 将 state 和 next_state 转换为 one-hot 编码\n",
    "        state_index = state_to_index[state]\n",
    "        state_one_hot = torch.zeros(self.state_dim).unsqueeze(0)\n",
    "        state_one_hot[0, state_index] = 1\n",
    "\n",
    "        next_state_index = state_to_index[next_state]\n",
    "        next_state_one_hot = torch.zeros(self.state_dim).unsqueeze(0)\n",
    "        next_state_one_hot[0, next_state_index] = 1\n",
    "\n",
    "        # 将 action 转换为 one-hot 编码\n",
    "        action_one_hot = torch.zeros(self.action_dim).unsqueeze(0)\n",
    "        action_one_hot[0, action] = 1\n",
    "\n",
    "        reward = torch.FloatTensor([reward])\n",
    "        done = torch.FloatTensor([done])\n",
    "\n",
    "        # 计算当前 Q 值\n",
    "        state_action_embed = self.embedding_net(state_one_hot, action_one_hot)\n",
    "        current_q = self.q_net(state_action_embed)\n",
    "\n",
    "        # 计算目标 Q 值\n",
    "        with torch.no_grad():\n",
    "            next_q_values = []\n",
    "            for next_action in range(self.action_dim):\n",
    "                next_action_one_hot = torch.zeros(self.action_dim).unsqueeze(0)\n",
    "                next_action_one_hot[0, next_action] = 1\n",
    "                next_state_action_embed = self.embedding_net(next_state_one_hot, next_action_one_hot)\n",
    "                next_q = self.target_q_net(next_state_action_embed)\n",
    "                next_q_values.append(next_q.item())\n",
    "            next_q_max = max(next_q_values)\n",
    "            target_q = reward + (1 - done) * self.gamma * next_q_max\n",
    "\n",
    "        # 计算损失并更新网络\n",
    "        loss = nn.MSELoss()(current_q, target_q.unsqueeze(1))  # 调整 target_q 的形状\n",
    "        self.optimizer.zero_grad()\n",
    "        self.losses.append(loss.item())\n",
    "        loss.backward()\n",
    "        self.optimizer.step()\n",
    "\n",
    "        # 更新 epsilon\n",
    "        self.epsilon = max(self.epsilon_min, self.epsilon * self.epsilon_decay)\n",
    "\n",
    "        # 更新目标网络\n",
    "        self.target_q_net.load_state_dict(self.q_net.state_dict())\n",
    "        \n",
    "    def plot_training_progress(self):\n",
    "        \"\"\"绘制训练过程中的reward变化\"\"\"\n",
    "        fig, (ax1, ax2) = plt.subplots(2, 1, figsize=(10, 10))\n",
    "        \n",
    "        # 绘制episode rewards\n",
    "        ax1.plot(self.episode_rewards, label='Episode Reward', alpha=0.6)\n",
    "        ax1.set_title('Training Rewards')\n",
    "        ax1.set_xlabel('Episode')\n",
    "        ax1.set_ylabel('Reward')\n",
    "        ax1.legend()\n",
    "        ax1.grid(True)\n",
    "        \n",
    "        # 绘制损失变化\n",
    "        ax2.plot(self.losses, label='Loss', alpha=0.6)\n",
    "        ax2.set_title('Training Loss')\n",
    "        ax2.set_xlabel('Training Step')\n",
    "        ax2.set_ylabel('Loss')\n",
    "        ax2.legend()\n",
    "        ax2.grid(True)\n",
    "        \n",
    "        plt.tight_layout()\n",
    "        plt.show()\n"
   ]
  },
  {
   "cell_type": "code",
   "execution_count": 8,
   "metadata": {},
   "outputs": [
    {
     "name": "stderr",
     "output_type": "stream",
     "text": [
      "/Users/veetin/Desktop/drifttest_pa/main/dynamic_env.py:47: FutureWarning: ChainedAssignmentError: behaviour will change in pandas 3.0!\n",
      "You are setting values through chained assignment. Currently this works in certain cases, but when using Copy-on-Write (which will become the default behaviour in pandas 3.0) this will never work to update the original DataFrame or Series, because the intermediate object on which we are setting values will behave as a copy.\n",
      "A typical example is when you are setting values in a column of a DataFrame, like:\n",
      "\n",
      "df[\"col\"][row_indexer] = value\n",
      "\n",
      "Use `df.loc[row_indexer, \"col\"] = values` instead, to perform the assignment in a single step and ensure this keeps updating the original `df`.\n",
      "\n",
      "See the caveats in the documentation: https://pandas.pydata.org/pandas-docs/stable/user_guide/indexing.html#returning-a-view-versus-a-copy\n",
      "\n",
      "  frequencies[label][action] = ast.literal_eval(frequencies[label][action]) #判断需要计算的内容是不是合法的Python类型，如果是则执行，否则就报错\n"
     ]
    }
   ],
   "source": [
    "# 初始化环境和 Agent\n",
    "env = TaskEnv_drift()  # 你的环境\n",
    "state_dim = len(env.states)  # state 的维度\n",
    "action_dim = len(env.motions)  # action 的维度\n",
    "\n",
    "# 创建 state 到索引的映射\n",
    "state_to_index = {state: idx for idx, state in enumerate(env.states)}\n",
    "action_to_index = {action: idx for idx, action in enumerate(env.motions)}\n",
    "\n",
    "agent = DQNAgent(state_dim, action_dim)\n"
   ]
  },
  {
   "cell_type": "code",
   "execution_count": 9,
   "metadata": {},
   "outputs": [
    {
     "name": "stderr",
     "output_type": "stream",
     "text": [
      "/Users/veetin/Desktop/drifttest_pa/main/dynamic_env.py:47: FutureWarning: ChainedAssignmentError: behaviour will change in pandas 3.0!\n",
      "You are setting values through chained assignment. Currently this works in certain cases, but when using Copy-on-Write (which will become the default behaviour in pandas 3.0) this will never work to update the original DataFrame or Series, because the intermediate object on which we are setting values will behave as a copy.\n",
      "A typical example is when you are setting values in a column of a DataFrame, like:\n",
      "\n",
      "df[\"col\"][row_indexer] = value\n",
      "\n",
      "Use `df.loc[row_indexer, \"col\"] = values` instead, to perform the assignment in a single step and ensure this keeps updating the original `df`.\n",
      "\n",
      "See the caveats in the documentation: https://pandas.pydata.org/pandas-docs/stable/user_guide/indexing.html#returning-a-view-versus-a-copy\n",
      "\n",
      "  frequencies[label][action] = ast.literal_eval(frequencies[label][action]) #判断需要计算的内容是不是合法的Python类型，如果是则执行，否则就报错\n"
     ]
    },
    {
     "name": "stdout",
     "output_type": "stream",
     "text": [
      "drift at episode 10\n",
      "drift happen\n",
      "['a0', 'a1', 'a2', 'a3', 'a4']\n"
     ]
    }
   ],
   "source": [
    "env=TaskEnv_drift()\n",
    "\n",
    "num_episodes = 100\n",
    "for episode in range(num_episodes):\n",
    "    state = env.reset()\n",
    "    total_reward = 0\n",
    "\n",
    "    if episode==10:\n",
    "        print('drift at episode',episode)\n",
    "        drift_control(5,5)\n",
    "\n",
    "    # 检查是否有新的 state 或 action 被添加\n",
    "    if len(env.states) > state_dim or len(env.motions) > action_dim:\n",
    "        new_state_dim = len(env.states)\n",
    "        new_action_dim = len(env.motions)\n",
    "        agent.update_networks(new_state_dim, new_action_dim)\n",
    "        state_dim = new_state_dim\n",
    "        action_dim = new_action_dim\n",
    "        state_to_index = {state: idx for idx, state in enumerate(env.states)}\n",
    "        action_to_index = {action: idx for idx, action in enumerate(env.motions)}\n",
    "\n",
    "    while True:\n",
    "        action = agent.get_action(state, state_to_index)\n",
    "        next_state, reward, done, _ = env.step(action)\n",
    "        agent.remember(state, action, reward, next_state, done)\n",
    "        agent.train(batch_size=1, state_to_index=state_to_index)\n",
    "\n",
    "        total_reward += reward\n",
    "        state = next_state\n",
    "\n",
    "        if done:\n",
    "            break\n",
    "    agent.episode_rewards.append(total_reward)\n",
    "\n",
    "    #print(f\"Episode: {episode + 1}, Total Reward: {total_reward}, Epsilon: {agent.epsilon}\")\n"
   ]
  },
  {
   "cell_type": "code",
   "execution_count": 13,
   "metadata": {},
   "outputs": [
    {
     "data": {
      "text/plain": [
       "[-14.0,\n",
       " 1.0,\n",
       " -4.0,\n",
       " 0.0,\n",
       " -1.0,\n",
       " 1.0,\n",
       " 1.0,\n",
       " -8.0,\n",
       " 0.0,\n",
       " 0.0,\n",
       " -8.0,\n",
       " 0.0,\n",
       " -23.0,\n",
       " -7.0,\n",
       " -18.0,\n",
       " -13.0,\n",
       " -15.0,\n",
       " -7.0,\n",
       " 1.0,\n",
       " -18.0]"
      ]
     },
     "execution_count": 13,
     "metadata": {},
     "output_type": "execute_result"
    }
   ],
   "source": [
    "agent.episode_rewards"
   ]
  },
  {
   "cell_type": "code",
   "execution_count": 10,
   "metadata": {},
   "outputs": [
    {
     "data": {
      "application/vnd.plotly.v1+json": {
       "config": {
        "plotlyServerURL": "https://plot.ly"
       },
       "data": [
        {
         "hovertemplate": "variable=drift<br>index=%{x}<br>value=%{y}<extra></extra>",
         "legendgroup": "drift",
         "line": {
          "color": "#636efa",
          "dash": "solid"
         },
         "marker": {
          "symbol": "circle"
         },
         "mode": "lines",
         "name": "drift",
         "orientation": "v",
         "showlegend": true,
         "type": "scatter",
         "x": [
          0,
          1,
          2,
          3,
          4,
          5,
          6,
          7,
          8,
          9,
          10,
          11,
          12,
          13,
          14,
          15,
          16,
          17,
          18,
          19,
          20,
          21,
          22,
          23,
          24,
          25,
          26,
          27,
          28,
          29,
          30,
          31,
          32,
          33,
          34,
          35,
          36,
          37,
          38,
          39,
          40,
          41,
          42,
          43,
          44,
          45,
          46,
          47,
          48,
          49,
          50,
          51,
          52,
          53,
          54,
          55,
          56,
          57,
          58,
          59,
          60,
          61,
          62,
          63,
          64,
          65,
          66,
          67,
          68,
          69,
          70,
          71,
          72,
          73,
          74,
          75,
          76,
          77,
          78,
          79,
          80,
          81,
          82,
          83,
          84,
          85,
          86,
          87,
          88,
          89,
          90,
          91,
          92,
          93,
          94,
          95,
          96,
          97,
          98,
          99
         ],
         "xaxis": "x",
         "y": [
          -1,
          1,
          -2,
          -1,
          -7,
          1,
          -2,
          -1,
          -1,
          -7,
          -10,
          -6,
          -6,
          -4,
          -13,
          -11,
          -11,
          -2,
          -3,
          -17,
          -9,
          -15,
          -1,
          -4,
          -1,
          -14,
          -6,
          -3,
          -15,
          -5,
          -15,
          -17,
          -3,
          -13,
          1,
          -11,
          -8,
          -16,
          -7,
          3,
          -10,
          -12,
          -11,
          -5,
          -5,
          -11,
          -8,
          -3,
          -18,
          -1,
          -16,
          0,
          -13,
          -18,
          -16,
          -11,
          1,
          -10,
          -7,
          -10,
          -16,
          -1,
          -10,
          -16,
          -13,
          -1,
          -12,
          -12,
          -4,
          -10,
          -8,
          -11,
          -12,
          -11,
          -15,
          -20,
          -9,
          -16,
          -18,
          -2,
          -18,
          -4,
          -8,
          -6,
          -6,
          0,
          -5,
          -15,
          -8,
          -17,
          -15,
          0,
          -7,
          -10,
          -2,
          -10,
          -14,
          -2,
          -16,
          -10
         ],
         "yaxis": "y"
        }
       ],
       "layout": {
        "legend": {
         "title": {
          "text": "variable"
         },
         "tracegroupgap": 0
        },
        "margin": {
         "t": 60
        },
        "template": {
         "data": {
          "bar": [
           {
            "error_x": {
             "color": "#2a3f5f"
            },
            "error_y": {
             "color": "#2a3f5f"
            },
            "marker": {
             "line": {
              "color": "#E5ECF6",
              "width": 0.5
             },
             "pattern": {
              "fillmode": "overlay",
              "size": 10,
              "solidity": 0.2
             }
            },
            "type": "bar"
           }
          ],
          "barpolar": [
           {
            "marker": {
             "line": {
              "color": "#E5ECF6",
              "width": 0.5
             },
             "pattern": {
              "fillmode": "overlay",
              "size": 10,
              "solidity": 0.2
             }
            },
            "type": "barpolar"
           }
          ],
          "carpet": [
           {
            "aaxis": {
             "endlinecolor": "#2a3f5f",
             "gridcolor": "white",
             "linecolor": "white",
             "minorgridcolor": "white",
             "startlinecolor": "#2a3f5f"
            },
            "baxis": {
             "endlinecolor": "#2a3f5f",
             "gridcolor": "white",
             "linecolor": "white",
             "minorgridcolor": "white",
             "startlinecolor": "#2a3f5f"
            },
            "type": "carpet"
           }
          ],
          "choropleth": [
           {
            "colorbar": {
             "outlinewidth": 0,
             "ticks": ""
            },
            "type": "choropleth"
           }
          ],
          "contour": [
           {
            "colorbar": {
             "outlinewidth": 0,
             "ticks": ""
            },
            "colorscale": [
             [
              0,
              "#0d0887"
             ],
             [
              0.1111111111111111,
              "#46039f"
             ],
             [
              0.2222222222222222,
              "#7201a8"
             ],
             [
              0.3333333333333333,
              "#9c179e"
             ],
             [
              0.4444444444444444,
              "#bd3786"
             ],
             [
              0.5555555555555556,
              "#d8576b"
             ],
             [
              0.6666666666666666,
              "#ed7953"
             ],
             [
              0.7777777777777778,
              "#fb9f3a"
             ],
             [
              0.8888888888888888,
              "#fdca26"
             ],
             [
              1,
              "#f0f921"
             ]
            ],
            "type": "contour"
           }
          ],
          "contourcarpet": [
           {
            "colorbar": {
             "outlinewidth": 0,
             "ticks": ""
            },
            "type": "contourcarpet"
           }
          ],
          "heatmap": [
           {
            "colorbar": {
             "outlinewidth": 0,
             "ticks": ""
            },
            "colorscale": [
             [
              0,
              "#0d0887"
             ],
             [
              0.1111111111111111,
              "#46039f"
             ],
             [
              0.2222222222222222,
              "#7201a8"
             ],
             [
              0.3333333333333333,
              "#9c179e"
             ],
             [
              0.4444444444444444,
              "#bd3786"
             ],
             [
              0.5555555555555556,
              "#d8576b"
             ],
             [
              0.6666666666666666,
              "#ed7953"
             ],
             [
              0.7777777777777778,
              "#fb9f3a"
             ],
             [
              0.8888888888888888,
              "#fdca26"
             ],
             [
              1,
              "#f0f921"
             ]
            ],
            "type": "heatmap"
           }
          ],
          "heatmapgl": [
           {
            "colorbar": {
             "outlinewidth": 0,
             "ticks": ""
            },
            "colorscale": [
             [
              0,
              "#0d0887"
             ],
             [
              0.1111111111111111,
              "#46039f"
             ],
             [
              0.2222222222222222,
              "#7201a8"
             ],
             [
              0.3333333333333333,
              "#9c179e"
             ],
             [
              0.4444444444444444,
              "#bd3786"
             ],
             [
              0.5555555555555556,
              "#d8576b"
             ],
             [
              0.6666666666666666,
              "#ed7953"
             ],
             [
              0.7777777777777778,
              "#fb9f3a"
             ],
             [
              0.8888888888888888,
              "#fdca26"
             ],
             [
              1,
              "#f0f921"
             ]
            ],
            "type": "heatmapgl"
           }
          ],
          "histogram": [
           {
            "marker": {
             "pattern": {
              "fillmode": "overlay",
              "size": 10,
              "solidity": 0.2
             }
            },
            "type": "histogram"
           }
          ],
          "histogram2d": [
           {
            "colorbar": {
             "outlinewidth": 0,
             "ticks": ""
            },
            "colorscale": [
             [
              0,
              "#0d0887"
             ],
             [
              0.1111111111111111,
              "#46039f"
             ],
             [
              0.2222222222222222,
              "#7201a8"
             ],
             [
              0.3333333333333333,
              "#9c179e"
             ],
             [
              0.4444444444444444,
              "#bd3786"
             ],
             [
              0.5555555555555556,
              "#d8576b"
             ],
             [
              0.6666666666666666,
              "#ed7953"
             ],
             [
              0.7777777777777778,
              "#fb9f3a"
             ],
             [
              0.8888888888888888,
              "#fdca26"
             ],
             [
              1,
              "#f0f921"
             ]
            ],
            "type": "histogram2d"
           }
          ],
          "histogram2dcontour": [
           {
            "colorbar": {
             "outlinewidth": 0,
             "ticks": ""
            },
            "colorscale": [
             [
              0,
              "#0d0887"
             ],
             [
              0.1111111111111111,
              "#46039f"
             ],
             [
              0.2222222222222222,
              "#7201a8"
             ],
             [
              0.3333333333333333,
              "#9c179e"
             ],
             [
              0.4444444444444444,
              "#bd3786"
             ],
             [
              0.5555555555555556,
              "#d8576b"
             ],
             [
              0.6666666666666666,
              "#ed7953"
             ],
             [
              0.7777777777777778,
              "#fb9f3a"
             ],
             [
              0.8888888888888888,
              "#fdca26"
             ],
             [
              1,
              "#f0f921"
             ]
            ],
            "type": "histogram2dcontour"
           }
          ],
          "mesh3d": [
           {
            "colorbar": {
             "outlinewidth": 0,
             "ticks": ""
            },
            "type": "mesh3d"
           }
          ],
          "parcoords": [
           {
            "line": {
             "colorbar": {
              "outlinewidth": 0,
              "ticks": ""
             }
            },
            "type": "parcoords"
           }
          ],
          "pie": [
           {
            "automargin": true,
            "type": "pie"
           }
          ],
          "scatter": [
           {
            "fillpattern": {
             "fillmode": "overlay",
             "size": 10,
             "solidity": 0.2
            },
            "type": "scatter"
           }
          ],
          "scatter3d": [
           {
            "line": {
             "colorbar": {
              "outlinewidth": 0,
              "ticks": ""
             }
            },
            "marker": {
             "colorbar": {
              "outlinewidth": 0,
              "ticks": ""
             }
            },
            "type": "scatter3d"
           }
          ],
          "scattercarpet": [
           {
            "marker": {
             "colorbar": {
              "outlinewidth": 0,
              "ticks": ""
             }
            },
            "type": "scattercarpet"
           }
          ],
          "scattergeo": [
           {
            "marker": {
             "colorbar": {
              "outlinewidth": 0,
              "ticks": ""
             }
            },
            "type": "scattergeo"
           }
          ],
          "scattergl": [
           {
            "marker": {
             "colorbar": {
              "outlinewidth": 0,
              "ticks": ""
             }
            },
            "type": "scattergl"
           }
          ],
          "scattermapbox": [
           {
            "marker": {
             "colorbar": {
              "outlinewidth": 0,
              "ticks": ""
             }
            },
            "type": "scattermapbox"
           }
          ],
          "scatterpolar": [
           {
            "marker": {
             "colorbar": {
              "outlinewidth": 0,
              "ticks": ""
             }
            },
            "type": "scatterpolar"
           }
          ],
          "scatterpolargl": [
           {
            "marker": {
             "colorbar": {
              "outlinewidth": 0,
              "ticks": ""
             }
            },
            "type": "scatterpolargl"
           }
          ],
          "scatterternary": [
           {
            "marker": {
             "colorbar": {
              "outlinewidth": 0,
              "ticks": ""
             }
            },
            "type": "scatterternary"
           }
          ],
          "surface": [
           {
            "colorbar": {
             "outlinewidth": 0,
             "ticks": ""
            },
            "colorscale": [
             [
              0,
              "#0d0887"
             ],
             [
              0.1111111111111111,
              "#46039f"
             ],
             [
              0.2222222222222222,
              "#7201a8"
             ],
             [
              0.3333333333333333,
              "#9c179e"
             ],
             [
              0.4444444444444444,
              "#bd3786"
             ],
             [
              0.5555555555555556,
              "#d8576b"
             ],
             [
              0.6666666666666666,
              "#ed7953"
             ],
             [
              0.7777777777777778,
              "#fb9f3a"
             ],
             [
              0.8888888888888888,
              "#fdca26"
             ],
             [
              1,
              "#f0f921"
             ]
            ],
            "type": "surface"
           }
          ],
          "table": [
           {
            "cells": {
             "fill": {
              "color": "#EBF0F8"
             },
             "line": {
              "color": "white"
             }
            },
            "header": {
             "fill": {
              "color": "#C8D4E3"
             },
             "line": {
              "color": "white"
             }
            },
            "type": "table"
           }
          ]
         },
         "layout": {
          "annotationdefaults": {
           "arrowcolor": "#2a3f5f",
           "arrowhead": 0,
           "arrowwidth": 1
          },
          "autotypenumbers": "strict",
          "coloraxis": {
           "colorbar": {
            "outlinewidth": 0,
            "ticks": ""
           }
          },
          "colorscale": {
           "diverging": [
            [
             0,
             "#8e0152"
            ],
            [
             0.1,
             "#c51b7d"
            ],
            [
             0.2,
             "#de77ae"
            ],
            [
             0.3,
             "#f1b6da"
            ],
            [
             0.4,
             "#fde0ef"
            ],
            [
             0.5,
             "#f7f7f7"
            ],
            [
             0.6,
             "#e6f5d0"
            ],
            [
             0.7,
             "#b8e186"
            ],
            [
             0.8,
             "#7fbc41"
            ],
            [
             0.9,
             "#4d9221"
            ],
            [
             1,
             "#276419"
            ]
           ],
           "sequential": [
            [
             0,
             "#0d0887"
            ],
            [
             0.1111111111111111,
             "#46039f"
            ],
            [
             0.2222222222222222,
             "#7201a8"
            ],
            [
             0.3333333333333333,
             "#9c179e"
            ],
            [
             0.4444444444444444,
             "#bd3786"
            ],
            [
             0.5555555555555556,
             "#d8576b"
            ],
            [
             0.6666666666666666,
             "#ed7953"
            ],
            [
             0.7777777777777778,
             "#fb9f3a"
            ],
            [
             0.8888888888888888,
             "#fdca26"
            ],
            [
             1,
             "#f0f921"
            ]
           ],
           "sequentialminus": [
            [
             0,
             "#0d0887"
            ],
            [
             0.1111111111111111,
             "#46039f"
            ],
            [
             0.2222222222222222,
             "#7201a8"
            ],
            [
             0.3333333333333333,
             "#9c179e"
            ],
            [
             0.4444444444444444,
             "#bd3786"
            ],
            [
             0.5555555555555556,
             "#d8576b"
            ],
            [
             0.6666666666666666,
             "#ed7953"
            ],
            [
             0.7777777777777778,
             "#fb9f3a"
            ],
            [
             0.8888888888888888,
             "#fdca26"
            ],
            [
             1,
             "#f0f921"
            ]
           ]
          },
          "colorway": [
           "#636efa",
           "#EF553B",
           "#00cc96",
           "#ab63fa",
           "#FFA15A",
           "#19d3f3",
           "#FF6692",
           "#B6E880",
           "#FF97FF",
           "#FECB52"
          ],
          "font": {
           "color": "#2a3f5f"
          },
          "geo": {
           "bgcolor": "white",
           "lakecolor": "white",
           "landcolor": "#E5ECF6",
           "showlakes": true,
           "showland": true,
           "subunitcolor": "white"
          },
          "hoverlabel": {
           "align": "left"
          },
          "hovermode": "closest",
          "mapbox": {
           "style": "light"
          },
          "paper_bgcolor": "white",
          "plot_bgcolor": "#E5ECF6",
          "polar": {
           "angularaxis": {
            "gridcolor": "white",
            "linecolor": "white",
            "ticks": ""
           },
           "bgcolor": "#E5ECF6",
           "radialaxis": {
            "gridcolor": "white",
            "linecolor": "white",
            "ticks": ""
           }
          },
          "scene": {
           "xaxis": {
            "backgroundcolor": "#E5ECF6",
            "gridcolor": "white",
            "gridwidth": 2,
            "linecolor": "white",
            "showbackground": true,
            "ticks": "",
            "zerolinecolor": "white"
           },
           "yaxis": {
            "backgroundcolor": "#E5ECF6",
            "gridcolor": "white",
            "gridwidth": 2,
            "linecolor": "white",
            "showbackground": true,
            "ticks": "",
            "zerolinecolor": "white"
           },
           "zaxis": {
            "backgroundcolor": "#E5ECF6",
            "gridcolor": "white",
            "gridwidth": 2,
            "linecolor": "white",
            "showbackground": true,
            "ticks": "",
            "zerolinecolor": "white"
           }
          },
          "shapedefaults": {
           "line": {
            "color": "#2a3f5f"
           }
          },
          "ternary": {
           "aaxis": {
            "gridcolor": "white",
            "linecolor": "white",
            "ticks": ""
           },
           "baxis": {
            "gridcolor": "white",
            "linecolor": "white",
            "ticks": ""
           },
           "bgcolor": "#E5ECF6",
           "caxis": {
            "gridcolor": "white",
            "linecolor": "white",
            "ticks": ""
           }
          },
          "title": {
           "x": 0.05
          },
          "xaxis": {
           "automargin": true,
           "gridcolor": "white",
           "linecolor": "white",
           "ticks": "",
           "title": {
            "standoff": 15
           },
           "zerolinecolor": "white",
           "zerolinewidth": 2
          },
          "yaxis": {
           "automargin": true,
           "gridcolor": "white",
           "linecolor": "white",
           "ticks": "",
           "title": {
            "standoff": 15
           },
           "zerolinecolor": "white",
           "zerolinewidth": 2
          }
         }
        },
        "xaxis": {
         "anchor": "y",
         "domain": [
          0,
          1
         ],
         "title": {
          "text": "Episodes"
         }
        },
        "yaxis": {
         "anchor": "x",
         "domain": [
          0,
          1
         ],
         "title": {
          "text": "Average sum of reward"
         }
        }
       }
      }
     },
     "metadata": {},
     "output_type": "display_data"
    }
   ],
   "source": [
    "data_eps =  {'drift': agent.episode_rewards}\n",
    "df_eps = pd.DataFrame(data=data_eps)\n",
    "fug = px.line(data_eps, y=['drift'])\n",
    "fug.update_layout(xaxis_title = 'Episodes', yaxis_title = 'Average sum of reward')\n",
    "fug.show()"
   ]
  },
  {
   "cell_type": "code",
   "execution_count": null,
   "metadata": {},
   "outputs": [],
   "source": []
  }
 ],
 "metadata": {
  "kernelspec": {
   "display_name": "base",
   "language": "python",
   "name": "python3"
  },
  "language_info": {
   "codemirror_mode": {
    "name": "ipython",
    "version": 3
   },
   "file_extension": ".py",
   "mimetype": "text/x-python",
   "name": "python",
   "nbconvert_exporter": "python",
   "pygments_lexer": "ipython3",
   "version": "3.12.7"
  }
 },
 "nbformat": 4,
 "nbformat_minor": 2
}
